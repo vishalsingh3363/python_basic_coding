{
 "cells": [
  {
   "cell_type": "code",
   "execution_count": 3,
   "id": "874c06f3",
   "metadata": {},
   "outputs": [
    {
     "name": "stdout",
     "output_type": "stream",
     "text": [
      "sum of elements of list is : 45\n"
     ]
    }
   ],
   "source": [
    "#1. Write a Python program to find sum of elements in list?\n",
    "\n",
    "l=[2,3,4,5,1,14,16]\n",
    "sum=0\n",
    "for i in l:\n",
    "    sum= sum+i\n",
    "    \n",
    "print('sum of elements of list is :', sum)"
   ]
  },
  {
   "cell_type": "code",
   "execution_count": 6,
   "id": "f16d4888",
   "metadata": {},
   "outputs": [
    {
     "name": "stdout",
     "output_type": "stream",
     "text": [
      "sum of elements of list is : 120\n"
     ]
    }
   ],
   "source": [
    "#2. Write a Python program to Multiply all numbers in the list?\n",
    "l=[2,3,4,5,1]\n",
    "sum=1\n",
    "for i in l:\n",
    "    sum= sum*i\n",
    "    \n",
    "print('sum of elements of list is :', sum)"
   ]
  },
  {
   "cell_type": "code",
   "execution_count": 5,
   "id": "0a55db8d",
   "metadata": {},
   "outputs": [
    {
     "name": "stdout",
     "output_type": "stream",
     "text": [
      "smallest element in list:  1\n"
     ]
    }
   ],
   "source": [
    "#3. Write a Python program to find smallest number in a list?\n",
    "\n",
    "\n",
    "l=[2,3,4,5,1,14,16]\n",
    "\n",
    "min= l[0]\n",
    "for i in range(0,len(l)):\n",
    "    if (l[i]<min):\n",
    "        min=l[i]\n",
    "\n",
    "print(\"smallest element in list: \", min)"
   ]
  },
  {
   "cell_type": "code",
   "execution_count": 4,
   "id": "1314aa6b",
   "metadata": {},
   "outputs": [
    {
     "name": "stdout",
     "output_type": "stream",
     "text": [
      "largest element in list:  16\n"
     ]
    }
   ],
   "source": [
    "#4. Write a Python program to find largest number in a list?\n",
    "\n",
    "l=[2,3,4,5,1,14,16]\n",
    "\n",
    "max= l[0]\n",
    "for i in range(0,len(l)):\n",
    "    if (l[i]>max):\n",
    "        max=l[i]\n",
    "\n",
    "print(\"largest element in list: \", max)"
   ]
  },
  {
   "cell_type": "code",
   "execution_count": 22,
   "id": "9b29b9c6",
   "metadata": {},
   "outputs": [
    {
     "name": "stdout",
     "output_type": "stream",
     "text": [
      "the second largest number is : 14\n"
     ]
    }
   ],
   "source": [
    "#5. Write a Python program to find second largest number in a list?\n",
    "\n",
    "l=[2,3,4,5,1,14,16]\n",
    "\n",
    "second_largest=l[-2]\n",
    "print(\"the second largest number is :\", second_largest)"
   ]
  },
  {
   "cell_type": "code",
   "execution_count": 14,
   "id": "dedaa946",
   "metadata": {},
   "outputs": [
    {
     "name": "stdout",
     "output_type": "stream",
     "text": [
      "[4, 5, 14, 16]\n"
     ]
    }
   ],
   "source": [
    "#6. Write a Python program to find N largest elements from a list?\n",
    "\n",
    "l=[2,3,4,5,1,14,16]\n",
    "n=4\n",
    "\n",
    "l.sort()\n",
    "print(l[-n:])"
   ]
  },
  {
   "cell_type": "code",
   "execution_count": 8,
   "id": "1afb187b",
   "metadata": {},
   "outputs": [
    {
     "name": "stdout",
     "output_type": "stream",
     "text": [
      "this is even numbers 2\n",
      "this is even numbers 4\n",
      "this is even numbers 14\n",
      "this is even numbers 16\n"
     ]
    }
   ],
   "source": [
    "#7. Write a Python program to print even numbers in a list?\n",
    "\n",
    "l=[2,3,4,5,1,14,16]\n",
    "for i in l:\n",
    "    if i%2==0:\n",
    "        print(\"this is even numbers\", i)"
   ]
  },
  {
   "cell_type": "code",
   "execution_count": 10,
   "id": "ab2b994b",
   "metadata": {},
   "outputs": [
    {
     "name": "stdout",
     "output_type": "stream",
     "text": [
      "this is odd numbers 3\n",
      "this is odd numbers 5\n",
      "this is odd numbers 1\n"
     ]
    }
   ],
   "source": [
    "#8. Write a Python program to print odd numbers in a List?\n",
    "\n",
    "l=[2,3,4,5,1,14,16]\n",
    "for i in l:\n",
    "    if i%2!=0:\n",
    "        print(\"this is odd numbers\", i)"
   ]
  },
  {
   "cell_type": "code",
   "execution_count": 18,
   "id": "c6b15e14",
   "metadata": {},
   "outputs": [
    {
     "data": {
      "text/plain": [
       "[1, 2, 11, 24, 345, 56, 6, 2234, 12]"
      ]
     },
     "execution_count": 18,
     "metadata": {},
     "output_type": "execute_result"
    }
   ],
   "source": [
    "#9. Write a Python program to Remove empty List from List?\n",
    "\n",
    "l=[]\n",
    "list=[1,2,11,24,345,56,6,[],2234,[],12]\n",
    "\n",
    "for i in list:\n",
    "    if i!=[]:\n",
    "        l.append(i)\n",
    "\n",
    "l"
   ]
  },
  {
   "cell_type": "code",
   "execution_count": 24,
   "id": "b13558f7",
   "metadata": {},
   "outputs": [
    {
     "name": "stdout",
     "output_type": "stream",
     "text": [
      "Original List: [34, 22, 27, 65, 45, 98, 112, 122]\n",
      "After Cloning: [34, 22, 27, 65, 45, 98, 112, 122]\n"
     ]
    }
   ],
   "source": [
    "#10. Write a Python program to Cloning or Copying a list?\n",
    "\n",
    "def Cloning(list_1):\n",
    "    list_copy = [i for i in list_1]\n",
    "    return list_copy\n",
    "   \n",
    "# Driver Code\n",
    "list_1 = [34,22,27,65,45,98,112,122]\n",
    "list_2 = Cloning(list_1)\n",
    "print(\"Original List:\", list_1)\n",
    "print(\"After Cloning:\", list_2)"
   ]
  },
  {
   "cell_type": "code",
   "execution_count": 33,
   "id": "002063c0",
   "metadata": {},
   "outputs": [
    {
     "name": "stdout",
     "output_type": "stream",
     "text": [
      "enter number from list whose occurance you want to count7\n",
      "7 has occurred times 8\n"
     ]
    }
   ],
   "source": [
    "#11. Write a Python program to Count occurrences of an element in a list?\n",
    "n=int(input(\"enter number from list whose occurance you want to count\"))\n",
    "list=[7,3,2,7,5,6,3,4,5,4,3,7,7,8,7,6,5,3,2,7,7,5,5,3,7]\n",
    "\n",
    "count=0\n",
    "for i in list:\n",
    "    if i==n:\n",
    "        count +=1\n",
    "\n",
    "\n",
    "print(n, 'has occurred times',count)"
   ]
  },
  {
   "cell_type": "code",
   "execution_count": 29,
   "id": "7ad0a778",
   "metadata": {},
   "outputs": [
    {
     "name": "stdout",
     "output_type": "stream",
     "text": [
      "8 has occurred 5 times\n"
     ]
    }
   ],
   "source": [
    "def countX(lst, x):\n",
    "    count = 0\n",
    "    for ele in lst:\n",
    "        if (ele == x):\n",
    "            count = count + 1\n",
    "    return count\n",
    " \n",
    "# Driver Code\n",
    "lst = [8, 6, 8, 10, 8, 20, 10, 8, 8]\n",
    "x = 8\n",
    "print('{} has occurred {} times'.format(x, countX(lst, x)))"
   ]
  },
  {
   "cell_type": "code",
   "execution_count": null,
   "id": "8dec6281",
   "metadata": {},
   "outputs": [],
   "source": []
  }
 ],
 "metadata": {
  "kernelspec": {
   "display_name": "Python 3 (ipykernel)",
   "language": "python",
   "name": "python3"
  },
  "language_info": {
   "codemirror_mode": {
    "name": "ipython",
    "version": 3
   },
   "file_extension": ".py",
   "mimetype": "text/x-python",
   "name": "python",
   "nbconvert_exporter": "python",
   "pygments_lexer": "ipython3",
   "version": "3.10.5"
  }
 },
 "nbformat": 4,
 "nbformat_minor": 5
}
