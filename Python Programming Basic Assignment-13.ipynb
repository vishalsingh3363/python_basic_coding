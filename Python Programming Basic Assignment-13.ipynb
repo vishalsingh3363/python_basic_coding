{
 "cells": [
  {
   "cell_type": "code",
   "execution_count": 2,
   "id": "3275ed81",
   "metadata": {},
   "outputs": [
    {
     "name": "stdout",
     "output_type": "stream",
     "text": [
      "give value of D :100,150,180\n",
      "[18, 22, 24]\n"
     ]
    }
   ],
   "source": [
    "#Question 1:\n",
    "#Write a program that calculates and prints the value according to the given formula:\n",
    "#Q = Square root of [(2 * C * D)/H]\n",
    "#Following are the fixed values of C and H:\n",
    "#C is 50. H is 30.\n",
    "#D is the variable whose values should be input to your program in a comma-separated\n",
    "#sequence.\n",
    "#Example\n",
    "#Let us assume the following comma separated input sequence is given to the program:\n",
    "#100,150,180\n",
    "#The output of the program should be:\n",
    "#18,22,24\n",
    "\n",
    "\n",
    "import math\n",
    "\n",
    "num = input('give value of D :')\n",
    "num=num.split(',')\n",
    "\n",
    "list_1=[]\n",
    "\n",
    "for D in num:\n",
    "    Q = round(math.sqrt(2 * 50 * int(D) / 30))\n",
    "    list_1.append(Q)\n",
    "        \n",
    "print(list_1)"
   ]
  },
  {
   "cell_type": "code",
   "execution_count": 5,
   "id": "572d1ced",
   "metadata": {},
   "outputs": [
    {
     "name": "stdout",
     "output_type": "stream",
     "text": [
      "Number of rows:3\n",
      "Number of columns5\n",
      "[[0, 0, 0, 0, 0], [0, 1, 2, 3, 4], [0, 2, 4, 6, 8]]\n"
     ]
    }
   ],
   "source": [
    "#Question 2:\n",
    "#Write a program which takes 2 digits, X,Y as input and generates a 2-dimensional array. The\n",
    "#element value in the i-th row and j-th column of the array should be i*j.\n",
    "#Note: i=0,1.., X-1; j=0,1,¡Y-1.\n",
    "#Example\n",
    "#Suppose the following inputs are given to the program:\n",
    "#3,5\n",
    "#Then, the output of the program should be:\n",
    "#[[0, 0, 0, 0, 0], [0, 1, 2, 3, 4], [0, 2, 4, 6, 8]]\n",
    "\n",
    "row = int(input(\"Number of rows:\"))\n",
    "column= int(input(\"Number of columns\"))\n",
    "\n",
    "matrix=[[0 for col in range(column)] for row in range(row)]\n",
    "\n",
    "for i in range(row):\n",
    "    for j in range(column):\n",
    "        matrix[i][j]= i*j\n",
    "print(matrix)"
   ]
  },
  {
   "cell_type": "code",
   "execution_count": 17,
   "id": "7613b77d",
   "metadata": {},
   "outputs": [
    {
     "name": "stdout",
     "output_type": "stream",
     "text": [
      "enter the sentence:without,hello,bag,world\n",
      "bag, hello, without, world\n"
     ]
    }
   ],
   "source": [
    "#Question 3:\n",
    "#Write a program that accepts a comma separated sequence of words as input and prints the\n",
    "#words in a comma-separated sequence after sorting them alphabetically.\n",
    "#Suppose the following input is supplied to the program:\n",
    "#without,hello,bag,world\n",
    "#Then, the output should be:\n",
    "#bag,hello,without,world\n",
    "\n",
    "sentence = input(\"enter the sentence:\")\n",
    "\n",
    "sentence_1=sentence.split(\",\")\n",
    "sentence_1.sort()\n",
    "print((', ').join(sentence_1))"
   ]
  },
  {
   "cell_type": "code",
   "execution_count": 35,
   "id": "1d89a8c3",
   "metadata": {},
   "outputs": [
    {
     "name": "stdout",
     "output_type": "stream",
     "text": [
      "enter the sentence:hello world and practice makes perfect and hello world again\n",
      "again, and, hello, makes, perfect, practice, world\n"
     ]
    }
   ],
   "source": [
    "#Question 4:\n",
    "#Write a program that accepts a sequence of whitespace separated words as input and prints\n",
    "#the words after removing all duplicate words and sorting them alphanumerically.\n",
    "#Suppose the following input is supplied to the program:\n",
    "#hello world and practice makes perfect and hello world again\n",
    "#Then, the output should be:\n",
    "#again and hello makes perfect practice world\n",
    "\n",
    "sentence1 = input(\"enter the sentence:\")\n",
    "\n",
    "sentence2= sentence1.split(' ')\n",
    "\n",
    "word=[]\n",
    "for i in sentence2:\n",
    "    if i not in word:\n",
    "        word.append(i)\n",
    "    else:\n",
    "        continue\n",
    "    \n",
    "word.sort()\n",
    "\n",
    "\n",
    "print((', ').join(word))"
   ]
  },
  {
   "cell_type": "code",
   "execution_count": 41,
   "id": "2d2d6f1a",
   "metadata": {},
   "outputs": [
    {
     "name": "stdout",
     "output_type": "stream",
     "text": [
      "enter sentencehello world! 123\n",
      "Letter 10\n",
      "digits 3\n"
     ]
    }
   ],
   "source": [
    "#Question 5:\n",
    "#Write a program that accepts a sentence and calculate the number of letters and digits.\n",
    "#Suppose the following input is supplied to the program:\n",
    "#hello world! 123\n",
    "#Then, the output should be:\n",
    "#LETTERS 10\n",
    "#digits 3\n",
    "\n",
    "text= input('enter sentence')\n",
    "d=l=0\n",
    "\n",
    "for i in text:\n",
    "    if i.isdigit():\n",
    "        d=d+1\n",
    "    elif i.isalpha():\n",
    "        l=l+1\n",
    "    else:\n",
    "        pass\n",
    "print('Letter', l)\n",
    "print('digits', d)\n"
   ]
  },
  {
   "cell_type": "code",
   "execution_count": null,
   "id": "011063af",
   "metadata": {},
   "outputs": [],
   "source": [
    "#QUESTION-6\n",
    "#A website requires the users to input username and password to register. Write a program to\n",
    "#check the validity of password input by users.\n",
    "#Following are the criteria for checking the password:\n",
    "#1. At least 1 letter between [a-z]\n",
    "#2. At least 1 number between [0-9]\n",
    "#1. At least 1 letter between [A-Z]\n",
    "#3. At least 1 character from [$#@]\n",
    "#4. Minimum length of transaction password: 6\n",
    "#5. Maximum length of transaction password: 12\n",
    "#Your program should accept a sequence of comma separated passwords and will check them\n",
    "#according to the above criteria. Passwords that match the criteria are to be printed, each\n",
    "#separated by a comma.\n",
    "#Example\n",
    "#If the following passwords are given as input to the program:\n",
    "#ABd1234@1,a F1#,2w3E*,2We3345\n",
    "#Then, the output of the program should be:\n",
    "#ABd1234@1"
   ]
  },
  {
   "cell_type": "code",
   "execution_count": 43,
   "id": "290182b3",
   "metadata": {},
   "outputs": [
    {
     "name": "stdout",
     "output_type": "stream",
     "text": [
      "Type in: ABd1234@1,a F1#,2w3E*,2We3345\n",
      "ABd1234@1\n"
     ]
    }
   ],
   "source": [
    "import re\n",
    "passwords = input(\"Type in: \")\n",
    "passwords = passwords.split(\",\")\n",
    "\n",
    "accepted_pass = []\n",
    "for i in passwords:\n",
    "    \n",
    "    if len(i) < 6 or len(i) > 12:\n",
    "        continue\n",
    "\n",
    "    elif not re.search(\"([a-z])+\", i):\n",
    "        continue\n",
    "\n",
    "    elif not re.search(\"([A-Z])+\", i):\n",
    "        continue\n",
    "\n",
    "    elif not re.search(\"([0-9])+\", i):\n",
    "        continue\n",
    "\n",
    "    elif not re.search(\"([!@$%^&])+\", i):\n",
    "        continue\n",
    "\n",
    "    else:\n",
    "        accepted_pass.append(i)\n",
    "\n",
    "print((\" \").join(accepted_pass))"
   ]
  },
  {
   "cell_type": "code",
   "execution_count": null,
   "id": "0367c91e",
   "metadata": {},
   "outputs": [],
   "source": []
  }
 ],
 "metadata": {
  "kernelspec": {
   "display_name": "Python 3 (ipykernel)",
   "language": "python",
   "name": "python3"
  },
  "language_info": {
   "codemirror_mode": {
    "name": "ipython",
    "version": 3
   },
   "file_extension": ".py",
   "mimetype": "text/x-python",
   "name": "python",
   "nbconvert_exporter": "python",
   "pygments_lexer": "ipython3",
   "version": "3.9.12"
  }
 },
 "nbformat": 4,
 "nbformat_minor": 5
}
