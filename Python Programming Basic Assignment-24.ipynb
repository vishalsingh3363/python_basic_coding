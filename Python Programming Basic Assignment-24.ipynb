{
 "cells": [
  {
   "cell_type": "code",
   "execution_count": null,
   "id": "f2acf526",
   "metadata": {},
   "outputs": [],
   "source": [
    "#Question1\n",
    "#Create a function that takes an integer and returns a list from 1 to the given number, where:\n",
    "#1. If the number can be divided evenly by 4, amplify it by 10 (i.e. return 10 times the number).\n",
    "#2. If the number cannot be divided evenly by 4, simply return the number.\n",
    "\n",
    "\n"
   ]
  },
  {
   "cell_type": "code",
   "execution_count": 1,
   "id": "a9d68a2c",
   "metadata": {},
   "outputs": [
    {
     "name": "stdout",
     "output_type": "stream",
     "text": [
      "[1, 2, 3, 4, 5]\n"
     ]
    }
   ],
   "source": [
    "#Question2\n",
    "#Create a function that takes a list of numbers and return the number that&#39;s unique.\n",
    "\n",
    "def unique_list(l):\n",
    "  x = []\n",
    "  for a in l:\n",
    "    if a not in x:\n",
    "      x.append(a)\n",
    "  return x\n",
    "\n",
    "print(unique_list([1,2,3,3,3,3,4,5])) "
   ]
  },
  {
   "cell_type": "code",
   "execution_count": 5,
   "id": "13223a7f",
   "metadata": {},
   "outputs": [
    {
     "name": "stdout",
     "output_type": "stream",
     "text": [
      "25.12\n"
     ]
    }
   ],
   "source": [
    "#Question3\n",
    "#Your task is to create a Circle constructor that creates a circle with a radius provided by an\n",
    "#argument. The circles constructed must have two getters getArea() (PIr^2) and\n",
    "#getPerimeter() (2PI*r) which give both respective areas and perimeter (circumference).\n",
    "\n",
    "#For help with this class, I have provided you with a Rectangle constructor which you can use as a base example.\n",
    "\n",
    "\n",
    "\n",
    "class Circle():\n",
    "    def __init__(self, r):\n",
    "        self.radius = r\n",
    "\n",
    "    def area(self):\n",
    "        return self.radius**2*3.14\n",
    "    \n",
    "    def perimeter(self):\n",
    "        return 2*self.radius*3.14\n",
    "\n",
    "NewCircle = Circle(4)\n",
    "\n",
    "print(NewCircle.perimeter())"
   ]
  },
  {
   "cell_type": "code",
   "execution_count": 10,
   "id": "fda63590",
   "metadata": {},
   "outputs": [
    {
     "data": {
      "text/plain": [
       "['Apple', 'Google', 'Microsoft']"
      ]
     },
     "execution_count": 10,
     "metadata": {},
     "output_type": "execute_result"
    }
   ],
   "source": [
    "#Question4\n",
    "#Create a function that takes a list of strings and return a list, sorted from shortest to longest.\n",
    "\n",
    "def lensort(a):\n",
    "    n = len(a)\n",
    "    for i in range(n):\n",
    "        for j in range(i+1,n):\n",
    "            if len(a[i]) > len(a[j]):\n",
    "                temp = a[i]\n",
    "                a[i] = a[j]\n",
    "                a[j] = temp\n",
    "    return a\n",
    "lensort(['Google', 'Apple', 'Microsoft'])\n"
   ]
  },
  {
   "cell_type": "code",
   "execution_count": null,
   "id": "36afdce9",
   "metadata": {},
   "outputs": [],
   "source": []
  },
  {
   "cell_type": "code",
   "execution_count": null,
   "id": "9b000c92",
   "metadata": {},
   "outputs": [],
   "source": []
  }
 ],
 "metadata": {
  "kernelspec": {
   "display_name": "Python 3 (ipykernel)",
   "language": "python",
   "name": "python3"
  },
  "language_info": {
   "codemirror_mode": {
    "name": "ipython",
    "version": 3
   },
   "file_extension": ".py",
   "mimetype": "text/x-python",
   "name": "python",
   "nbconvert_exporter": "python",
   "pygments_lexer": "ipython3",
   "version": "3.9.12"
  }
 },
 "nbformat": 4,
 "nbformat_minor": 5
}
