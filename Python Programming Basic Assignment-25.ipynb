{
 "cells": [
  {
   "cell_type": "code",
   "execution_count": 1,
   "id": "c5a299a5",
   "metadata": {},
   "outputs": [
    {
     "name": "stdout",
     "output_type": "stream",
     "text": [
      "0\n",
      "0\n",
      "0\n",
      "6\n"
     ]
    }
   ],
   "source": [
    "#Question1\n",
    "#Create a function that takes three integer arguments (a, b, c) and returns the amount of integers which are of equal value.\n",
    "\n",
    "def sum_three(x, y, z):\n",
    "    if x == y or y == z or x==z:\n",
    "        sum = 0\n",
    "    else:\n",
    "        sum = x + y + z\n",
    "    return sum\n",
    "print(sum_three(2, 1, 2))\n",
    "print(sum_three(3, 2, 2))\n",
    "print(sum_three(2, 2, 2))\n",
    "print(sum_three(1, 2, 3))"
   ]
  },
  {
   "cell_type": "code",
   "execution_count": 2,
   "id": "f68ed0c7",
   "metadata": {},
   "outputs": [
    {
     "data": {
      "text/plain": [
       "[('D', 1), ('B', 2), ('C', 3)]"
      ]
     },
     "execution_count": 2,
     "metadata": {},
     "output_type": "execute_result"
    }
   ],
   "source": [
    "#Question2\n",
    "#Write a function that converts a dictionary into a list of keys-values tuples.\n",
    "\n",
    "dict_to_list = {'D': 1,'B' : 2,'C' : 3}\n",
    "list(dict_to_list.items())"
   ]
  },
  {
   "cell_type": "code",
   "execution_count": 4,
   "id": "2a436e32",
   "metadata": {},
   "outputs": [
    {
     "data": {
      "text/plain": [
       "{'p': 'P', 's': 'S'}"
      ]
     },
     "execution_count": 4,
     "metadata": {},
     "output_type": "execute_result"
    }
   ],
   "source": [
    "#Question3\n",
    "#Write a function that creates a dictionary with each (key, value) pair being the (lower case, upper case) versions of a letter, respectively.\n",
    "\n",
    "mylist = [\"p\" , \"s\"]\n",
    "dict((i, i.upper()) for i in mylist)\n",
    "\n",
    "\n",
    "\n"
   ]
  },
  {
   "cell_type": "code",
   "execution_count": 5,
   "id": "cfd34e49",
   "metadata": {},
   "outputs": [
    {
     "data": {
      "text/plain": [
       "'upples uns bununu'"
      ]
     },
     "execution_count": 5,
     "metadata": {},
     "output_type": "execute_result"
    }
   ],
   "source": [
    "#Question4\n",
    "#Write a function, that replaces all vowels in a string with a specified vowel.\n",
    "\n",
    "def Vowels1(word):\n",
    "    vowels = ('a', 'e', 'i', 'o', 'u')\n",
    "    for c in word:\n",
    "        if c in vowels:\n",
    "            res = word.replace(c,\"u\")\n",
    "    return res\n",
    "\n",
    "\n",
    "Vowels1('apples ans banana')"
   ]
  },
  {
   "cell_type": "code",
   "execution_count": null,
   "id": "cd14b673",
   "metadata": {},
   "outputs": [],
   "source": []
  },
  {
   "cell_type": "code",
   "execution_count": null,
   "id": "df8fb187",
   "metadata": {},
   "outputs": [],
   "source": []
  }
 ],
 "metadata": {
  "kernelspec": {
   "display_name": "Python 3 (ipykernel)",
   "language": "python",
   "name": "python3"
  },
  "language_info": {
   "codemirror_mode": {
    "name": "ipython",
    "version": 3
   },
   "file_extension": ".py",
   "mimetype": "text/x-python",
   "name": "python",
   "nbconvert_exporter": "python",
   "pygments_lexer": "ipython3",
   "version": "3.9.12"
  }
 },
 "nbformat": 4,
 "nbformat_minor": 5
}
