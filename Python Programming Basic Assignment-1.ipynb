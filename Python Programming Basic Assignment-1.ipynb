{
 "cells": [
  {
   "cell_type": "code",
   "execution_count": 6,
   "id": "2dab4664",
   "metadata": {},
   "outputs": [
    {
     "name": "stdout",
     "output_type": "stream",
     "text": [
      "Hello Python\n"
     ]
    }
   ],
   "source": [
    "#1. Write a Python program to print 'Hello Python' ?\n",
    "\n",
    "print('Hello Python')"
   ]
  },
  {
   "cell_type": "code",
   "execution_count": 5,
   "id": "648ec9b2",
   "metadata": {},
   "outputs": [
    {
     "name": "stdout",
     "output_type": "stream",
     "text": [
      "enter first number23\n",
      "enter second number23\n",
      "sum of num1 and num2 is 46\n"
     ]
    }
   ],
   "source": [
    "#2. Write a Python program to do arithmetical operations addition and division.?\n",
    "\n",
    "num1= int(input('enter first number'))\n",
    "num2= int(input('enter second number'))\n",
    "\n",
    "sum= num1 +num2\n",
    "print('sum of num1 and num2 is', sum)"
   ]
  },
  {
   "cell_type": "code",
   "execution_count": 7,
   "id": "9a004ab8",
   "metadata": {},
   "outputs": [
    {
     "name": "stdout",
     "output_type": "stream",
     "text": [
      "enter base4\n",
      "enter height5\n",
      "Area of triangle is 10.0\n"
     ]
    }
   ],
   "source": [
    "#3. Write a Python program to find the area of a triangle?\n",
    "\n",
    "base= int(input('enter base'))\n",
    "height= int(input('enter height'))\n",
    "\n",
    "Area= 0.5*base*height\n",
    "\n",
    "print('Area of triangle is', Area)"
   ]
  },
  {
   "cell_type": "code",
   "execution_count": 13,
   "id": "bb5126d7",
   "metadata": {},
   "outputs": [
    {
     "name": "stdout",
     "output_type": "stream",
     "text": [
      "var1 after swap is : 16\n",
      "var2 after swap is : 10\n"
     ]
    }
   ],
   "source": [
    "#4. Write a Python program to swap two variables?\n",
    "\n",
    "var1= 10\n",
    "var2= 16\n",
    "\n",
    "swap=var1\n",
    "var1=var2\n",
    "var2=swap\n",
    "\n",
    "print('var1 after swap is :', var1)\n",
    "print('var2 after swap is :', var2)"
   ]
  },
  {
   "cell_type": "code",
   "execution_count": 17,
   "id": "b8b4e36a",
   "metadata": {},
   "outputs": [
    {
     "data": {
      "text/plain": [
       "4"
      ]
     },
     "execution_count": 17,
     "metadata": {},
     "output_type": "execute_result"
    }
   ],
   "source": [
    "#5. Write a Python program to generate a random number?\n",
    "\n",
    "import random\n",
    "number= random.randint(0,10)\n",
    "number"
   ]
  },
  {
   "cell_type": "code",
   "execution_count": null,
   "id": "09fb8dcd",
   "metadata": {},
   "outputs": [],
   "source": []
  }
 ],
 "metadata": {
  "kernelspec": {
   "display_name": "Python 3 (ipykernel)",
   "language": "python",
   "name": "python3"
  },
  "language_info": {
   "codemirror_mode": {
    "name": "ipython",
    "version": 3
   },
   "file_extension": ".py",
   "mimetype": "text/x-python",
   "name": "python",
   "nbconvert_exporter": "python",
   "pygments_lexer": "ipython3",
   "version": "3.10.5"
  }
 },
 "nbformat": 4,
 "nbformat_minor": 5
}
