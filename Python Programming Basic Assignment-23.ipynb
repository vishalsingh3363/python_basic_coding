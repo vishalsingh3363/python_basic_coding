{
 "cells": [
  {
   "cell_type": "code",
   "execution_count": 2,
   "id": "f71d76e1",
   "metadata": {},
   "outputs": [
    {
     "name": "stdout",
     "output_type": "stream",
     "text": [
      "True\n",
      "False\n"
     ]
    }
   ],
   "source": [
    "#Question 1\n",
    "#Create a function that takes a number as an argument and returns True or False depending\n",
    "#on whether the number is symmetrical or not. A number is symmetrical when it is the same as its reverse.\n",
    "\n",
    "def symmetric(n):\n",
    "    return str(n) == str(n)[::-1]\n",
    "print(symmetric(7227))\n",
    "print(symmetric(12567))\n",
    "\n",
    "\n"
   ]
  },
  {
   "cell_type": "code",
   "execution_count": 2,
   "id": "183ab8cb",
   "metadata": {},
   "outputs": [
    {
     "name": "stdout",
     "output_type": "stream",
     "text": [
      "Give two numbers to be multiplied\n",
      "23,24\n",
      "The product of given integers is 552\n"
     ]
    }
   ],
   "source": [
    "#Question 2\n",
    "#Given a string of numbers separated by a comma and space, return the product of the numbers.\n",
    "\n",
    "print('Give two numbers to be multiplied') \n",
    "t = input() \n",
    "[a,b]=t.split(',') \n",
    "a=int(a) \n",
    "b=int(b) \n",
    "c = a * b \n",
    "print('The product of given integers is',c) "
   ]
  },
  {
   "cell_type": "code",
   "execution_count": 10,
   "id": "886e7b36",
   "metadata": {},
   "outputs": [
    {
     "data": {
      "text/plain": [
       "811181"
      ]
     },
     "execution_count": 10,
     "metadata": {},
     "output_type": "execute_result"
    }
   ],
   "source": [
    "#Question 3\n",
    "#Create a function that squares every digit of a number.\n",
    "\n",
    "def square(num):\n",
    "    l=[]\n",
    "\n",
    "    for i in str(num):\n",
    "        l.append(str(int(i)**2))\n",
    "    return int(''.join(l))\n",
    "\n",
    "\n",
    "square(9119)"
   ]
  },
  {
   "cell_type": "code",
   "execution_count": 11,
   "id": "055b4193",
   "metadata": {},
   "outputs": [
    {
     "name": "stdout",
     "output_type": "stream",
     "text": [
      "[1, 2, 3, 4, 5, 6]\n"
     ]
    }
   ],
   "source": [
    "#Question 4\n",
    "#Create a function that sorts a list and removes all duplicate items from it.\n",
    "\n",
    "my_list = [1,1,2,3,2,2,4,5,6,2,1]\n",
    "my_final_list = set(my_list)\n",
    "print(list(my_final_list))"
   ]
  },
  {
   "cell_type": "code",
   "execution_count": null,
   "id": "f418a0d8",
   "metadata": {},
   "outputs": [],
   "source": [
    "#Question 5\n",
    "#Create a function that returns the mean of all digits.\n",
    "\n",
    "\n",
    "def reversDigits(num):\n",
    "    global rev_num\n",
    "    global base_pos\n",
    "    if(num > 0):\n",
    "        reversDigits((int)(num / 10))\n",
    "        rev_num += (num % 10) * base_pos\n",
    "        base_pos *= 10\n",
    "    return rev_num"
   ]
  }
 ],
 "metadata": {
  "kernelspec": {
   "display_name": "Python 3 (ipykernel)",
   "language": "python",
   "name": "python3"
  },
  "language_info": {
   "codemirror_mode": {
    "name": "ipython",
    "version": 3
   },
   "file_extension": ".py",
   "mimetype": "text/x-python",
   "name": "python",
   "nbconvert_exporter": "python",
   "pygments_lexer": "ipython3",
   "version": "3.9.12"
  }
 },
 "nbformat": 4,
 "nbformat_minor": 5
}
