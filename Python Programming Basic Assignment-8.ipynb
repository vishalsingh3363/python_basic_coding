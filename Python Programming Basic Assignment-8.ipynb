{
 "cells": [
  {
   "cell_type": "code",
   "execution_count": 13,
   "id": "3b441e22",
   "metadata": {},
   "outputs": [
    {
     "name": "stdout",
     "output_type": "stream",
     "text": [
      "[37, 32, 25]\n",
      "[76, 35, 55]\n",
      "[92, 103, 1000]\n"
     ]
    }
   ],
   "source": [
    "#1. Write a Python Program to Add Two Matrices?\n",
    "\n",
    "A = [[18,21,13],  \n",
    "       [64,25,36],  \n",
    "       [76,86,889]]  \n",
    "  \n",
    "B = [[19,11,12],  \n",
    "       [12,10,19],  \n",
    "       [16,17,111]]  \n",
    "\n",
    "result = [[0,0,0],  \n",
    "         [0,0,0],  \n",
    "         [0,0,0]]\n",
    "\n",
    "for i in range(len(A)):  \n",
    "    for j in range(len(A[0])):  \n",
    "       result[i][j] = A[i][j] + B[i][j]  \n",
    "for r in result:  \n",
    "   print(r) \n"
   ]
  },
  {
   "cell_type": "code",
   "execution_count": 14,
   "id": "bc5aa3f9",
   "metadata": {},
   "outputs": [
    {
     "name": "stdout",
     "output_type": "stream",
     "text": [
      "[342, 231, 156]\n",
      "[768, 250, 684]\n",
      "[1216, 1462, 98679]\n"
     ]
    }
   ],
   "source": [
    "#2. Write a Python Program to Multiply Two Matrices?\n",
    "\n",
    "A = [[18,21,13],  \n",
    "       [64,25,36],  \n",
    "       [76,86,889]]  \n",
    "  \n",
    "B = [[19,11,12],  \n",
    "       [12,10,19],  \n",
    "       [16,17,111]]  \n",
    "\n",
    "result = [[0,0,0],  \n",
    "         [0,0,0],  \n",
    "         [0,0,0]]\n",
    "\n",
    "for i in range(len(A)):  \n",
    "    for j in range(len(A[0])):  \n",
    "       result[i][j] = A[i][j] * B[i][j]  \n",
    "for r in result:  \n",
    "   print(r) "
   ]
  },
  {
   "cell_type": "code",
   "execution_count": 16,
   "id": "42df442d",
   "metadata": {},
   "outputs": [
    {
     "name": "stdout",
     "output_type": "stream",
     "text": [
      "The transpose of matrix A is: \n",
      "[123, 217, 425]\n",
      "[211, 488, 777]\n",
      "[672, 609, 909]\n"
     ]
    }
   ],
   "source": [
    "#3. Write a Python Program to Transpose a Matrix?\n",
    "\n",
    "A = [[123, 211, 672],  \n",
    "         [217, 488, 609],  \n",
    "         [425, 777, 909]]  \n",
    "  \n",
    "transResult = [[0, 0, 0],    \n",
    "                             [0, 0, 0],  \n",
    "                             [0, 0, 0]]  \n",
    "  \n",
    "for a in range(len(A)):    \n",
    "   for b in range(len(A[0])):    \n",
    "          transResult[b][a] = A[a][b] # store transpose result on empty matrix          \n",
    "# Printing result in the output  \n",
    "print(\"The transpose of matrix A is: \")  \n",
    "for res in transResult:    \n",
    "   print(res)  "
   ]
  },
  {
   "cell_type": "code",
   "execution_count": 19,
   "id": "a1f1f658",
   "metadata": {},
   "outputs": [
    {
     "name": "stdout",
     "output_type": "stream",
     "text": [
      "assignment is my this\n"
     ]
    }
   ],
   "source": [
    "#4. Write a Python Program to Sort Words in Alphabetic Order?\n",
    "s= \"this is my assignment\"\n",
    "words= s.lower().split()\n",
    "words.sort()\n",
    "print(' '.join(words))"
   ]
  },
  {
   "cell_type": "code",
   "execution_count": 20,
   "id": "4741eff6",
   "metadata": {},
   "outputs": [
    {
     "name": "stdout",
     "output_type": "stream",
     "text": [
      "Enter any string: this is my nu@@##$%^umb &*($#\n",
      "String without punctuation:  this is my nuumb \n"
     ]
    }
   ],
   "source": [
    "#5. Write a Python Program to Remove Punctuation From a String?\n",
    "\n",
    "punctuations = '''!()-[]{};:'\"\\,<>./?@#$%^&*_~'''\n",
    "\n",
    "s = input('Enter any string: ')\n",
    "\n",
    "no_punct = ''\n",
    "for ch in s:\n",
    "    if ch not in punctuations:\n",
    "        no_punct = no_punct + ch\n",
    "        \n",
    "\n",
    "print('String without punctuation: ', no_punct)"
   ]
  },
  {
   "cell_type": "code",
   "execution_count": null,
   "id": "42c0d529",
   "metadata": {},
   "outputs": [],
   "source": [
    "\n",
    "\n"
   ]
  },
  {
   "cell_type": "code",
   "execution_count": null,
   "id": "d51442b7",
   "metadata": {},
   "outputs": [],
   "source": []
  }
 ],
 "metadata": {
  "kernelspec": {
   "display_name": "Python 3 (ipykernel)",
   "language": "python",
   "name": "python3"
  },
  "language_info": {
   "codemirror_mode": {
    "name": "ipython",
    "version": 3
   },
   "file_extension": ".py",
   "mimetype": "text/x-python",
   "name": "python",
   "nbconvert_exporter": "python",
   "pygments_lexer": "ipython3",
   "version": "3.10.5"
  }
 },
 "nbformat": 4,
 "nbformat_minor": 5
}
