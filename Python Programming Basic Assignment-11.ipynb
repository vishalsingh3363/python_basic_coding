{
 "cells": [
  {
   "cell_type": "code",
   "execution_count": null,
   "id": "6ba9d0a9",
   "metadata": {},
   "outputs": [],
   "source": [
    "#1. Write a Python program to find words which are greater than given length k?\n",
    "\n",
    "def word_k(k, s):    \n",
    "    word = s.split(\" \")\n",
    "    for x in word:\n",
    "        if len(x)>k:\n",
    "          print(x)\n",
    "k = 3\n",
    "s =\"Python is good\"\n",
    "word_k(k, s)"
   ]
  },
  {
   "cell_type": "code",
   "execution_count": null,
   "id": "397a723e",
   "metadata": {},
   "outputs": [],
   "source": [
    "#2. Write a Python program for removing i-th character from a string?\n",
    "\n",
    "def remove(string,i):\n",
    "    a=string[:i]\n",
    "    b=string[i+1:]\n",
    "    return a+b\n",
    "\n",
    "remove(\"i am vishal\", 5)"
   ]
  },
  {
   "cell_type": "code",
   "execution_count": null,
   "id": "ad409946",
   "metadata": {},
   "outputs": [],
   "source": [
    "#3. Write a Python program to split and join a string?\n",
    "a= \"there is a cat in my room\"\n",
    "print(a)\n",
    "\n",
    "b= a.split()\n",
    "print(b)\n",
    "\n",
    "c=''.join(b)\n",
    "print(c)"
   ]
  },
  {
   "cell_type": "code",
   "execution_count": 17,
   "id": "0dad51bf",
   "metadata": {},
   "outputs": [
    {
     "name": "stdout",
     "output_type": "stream",
     "text": [
      "enter string11100\n",
      "11100 is not a binary string\n"
     ]
    }
   ],
   "source": [
    "#4. Write a Python to check if a given string is binary string or not?\n",
    "\n",
    "str= input('enter string')\n",
    "flag=0\n",
    "for char in str:\n",
    "    if char!=0 and char!=1:\n",
    "        flag=1\n",
    "        break\n",
    "if flag==0:\n",
    "    print(str, \"is binary string\")\n",
    "    \n",
    "else:\n",
    "    print(str, \"is not a binary string\")"
   ]
  },
  {
   "cell_type": "code",
   "execution_count": 15,
   "id": "ad2fd57a",
   "metadata": {},
   "outputs": [
    {
     "name": "stdout",
     "output_type": "stream",
     "text": [
      "Enter first string: this is my name\n",
      "enter second string: my name is this\n",
      "['this', 'my', 'name', 'is']\n"
     ]
    }
   ],
   "source": [
    "#5. Write a Python program to find uncommon words from two Strings?\n",
    "string_1= input(\"Enter first string: \")\n",
    "string_2= input(\"enter second string: \")\n",
    "a=set(string_1.split())\n",
    "b=set(string_2.split())\n",
    "common= list(a.intersection(b))\n",
    "print(common)"
   ]
  },
  {
   "cell_type": "code",
   "execution_count": 1,
   "id": "c4097a0d",
   "metadata": {},
   "outputs": [
    {
     "name": "stdout",
     "output_type": "stream",
     "text": [
      "['i', 's', ' ', 'm', 'r', 'g']\n"
     ]
    }
   ],
   "source": [
    "#6. Write a Python to find all duplicate characters in string?\n",
    "\n",
    "a= \"this is my programming\"\n",
    "\n",
    "dup=[]\n",
    "\n",
    "for i in a:\n",
    "    if a.count(i)>1:\n",
    "        if i not in dup:\n",
    "            dup.append(i)\n",
    "            \n",
    "print(dup)"
   ]
  },
  {
   "cell_type": "code",
   "execution_count": 12,
   "id": "85fb6180",
   "metadata": {},
   "outputs": [
    {
     "name": "stdout",
     "output_type": "stream",
     "text": [
      "Enter any string: there is *name\n",
      "there is a special character\n"
     ]
    }
   ],
   "source": [
    "#7. Write a Python Program to check if a string contains any special character?\n",
    "\n",
    "special_chr = '''!()-[]{};:'\"\\,<>./?@#$%^&*_~'''\n",
    "\n",
    "s = input('Enter any string: ')\n",
    "\n",
    "for i in s:\n",
    "    for j in special_chr:\n",
    "        if i==j:\n",
    "            print(\"there is a special character\")"
   ]
  },
  {
   "cell_type": "code",
   "execution_count": null,
   "id": "94f43bae",
   "metadata": {},
   "outputs": [],
   "source": []
  },
  {
   "cell_type": "code",
   "execution_count": null,
   "id": "c043bc73",
   "metadata": {},
   "outputs": [],
   "source": []
  },
  {
   "cell_type": "code",
   "execution_count": null,
   "id": "817268c0",
   "metadata": {},
   "outputs": [],
   "source": []
  }
 ],
 "metadata": {
  "kernelspec": {
   "display_name": "Python 3 (ipykernel)",
   "language": "python",
   "name": "python3"
  },
  "language_info": {
   "codemirror_mode": {
    "name": "ipython",
    "version": 3
   },
   "file_extension": ".py",
   "mimetype": "text/x-python",
   "name": "python",
   "nbconvert_exporter": "python",
   "pygments_lexer": "ipython3",
   "version": "3.10.5"
  }
 },
 "nbformat": 4,
 "nbformat_minor": 5
}
