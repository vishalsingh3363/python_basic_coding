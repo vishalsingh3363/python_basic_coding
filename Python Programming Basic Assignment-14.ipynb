{
 "cells": [
  {
   "cell_type": "code",
   "execution_count": 14,
   "id": "1d863b22",
   "metadata": {},
   "outputs": [
    {
     "name": "stdout",
     "output_type": "stream",
     "text": [
      "0\n",
      "7\n",
      "14\n",
      "21\n",
      "28\n",
      "35\n",
      "42\n",
      "49\n",
      "56\n",
      "63\n",
      "70\n",
      "77\n",
      "84\n",
      "91\n",
      "98\n"
     ]
    }
   ],
   "source": [
    "#Question 1:\n",
    "#Define a class with a generator which can iterate the numbers, which are divisible by 7, between a given range 0 and n.\n",
    "\n",
    "def number(n):\n",
    "    i = 0\n",
    "    while i<n:\n",
    "        j=i\n",
    "        i=i+1\n",
    "        if j%7==0:\n",
    "            yield j\n",
    "for i in number(100):\n",
    " \n",
    "    print (i)"
   ]
  },
  {
   "cell_type": "code",
   "execution_count": null,
   "id": "33fc7787",
   "metadata": {},
   "outputs": [],
   "source": [
    "#Question 2:\n",
    "#Write a program to compute the frequency of the words from the input. The output\n",
    "#should output after sorting the key alphanumerically.\n",
    "#Suppose the following input is supplied to the program:\n",
    "#New to Python or choosing between Python 2 and Python 3? Read Python 2 or\n",
    "#Python 3.\n",
    "#Then, the output should be:\n",
    "#2:2\n",
    "#3.:1\n",
    "#3?:1\n",
    "#New:1\n",
    "#Python:5\n",
    "#Read:1\n",
    "#and:1\n",
    "#between:1\n",
    "#choosing:1\n",
    "#or:2\n",
    "#to:1\n",
    "\n",
    "\n",
    "freq = {}   \n",
    "line = input(\"Enter Text:\")\n",
    "for word in line.split():\n",
    "    freq[word] = freq.get(word,0)+1\n",
    "\n",
    "words = freq.keys()\n",
    "words.sort()\n",
    "\n",
    "print (\"Frequency chart\")\n",
    "for w in words:\n",
    "    print (\"%s:%d\" % (w,freq[w]))\n"
   ]
  },
  {
   "cell_type": "code",
   "execution_count": null,
   "id": "21cf0211",
   "metadata": {},
   "outputs": [],
   "source": [
    "#Question 3:\n",
    "#Define a class Person and its two child classes: Male and Female. All classes have a\n",
    "#method 'getGender' which can print 'Male' for Male class and 'Female' for Female\n",
    "#class.\n",
    "\n",
    "class Person(object):\n",
    "    def getGender( self ):\n",
    "        return \"Unknown\"\n",
    "\n",
    "class Male( Person ):\n",
    "    def getGender( self ):\n",
    "        return \"Male\"\n",
    "\n",
    "class Female( Person ):\n",
    "    def getGender( self ):\n",
    "        return \"Female\"\n",
    "\n",
    "aMale = Male()\n",
    "aFemale= Female()\n",
    "print aMale.getGender()\n",
    "print aFemale.getGender()"
   ]
  },
  {
   "cell_type": "code",
   "execution_count": 18,
   "id": "2795c038",
   "metadata": {},
   "outputs": [
    {
     "name": "stdout",
     "output_type": "stream",
     "text": [
      "['I love Hockey']\n"
     ]
    }
   ],
   "source": [
    "#Question 4:\n",
    "#Please write a program to generate all sentences where subject is in ['I', 'You'] and\n",
    "#verb is in ['Play', 'Love'] and the object is in ['Hockey' , 'Football'].\n",
    "\n",
    "def gen(subjects,verbs,objects):\n",
    "    list=[]\n",
    "    for i in subjects:\n",
    "        for j in verbs:\n",
    "            for k in objects:\n",
    "                list.append(i+\" \"+j+\" \"+k)\n",
    "                return list \n",
    "           \n",
    "subjects=[\"I\",\"You\"]\n",
    "verbs=[\"love\", \"play\"]\n",
    "objects=[\"Hockey\",\"Football\"]\n",
    "print(gen(subjects,verbs,objects))\n",
    "\n"
   ]
  },
  {
   "cell_type": "code",
   "execution_count": null,
   "id": "811da000",
   "metadata": {},
   "outputs": [],
   "source": [
    "#Question 5:\n",
    "#Please write a program to compress and decompress the string &quot;hello world!hello\n",
    "#world!hello world!hello world!&quot;.\n",
    "\n",
    "\n",
    "import zlib\n",
    "s = 'hello world!hello world!hello world!hello world!'\n",
    "t = zlib.compress(s)\n",
    "print t\n",
    "print zlib.decompress(t)"
   ]
  },
  {
   "cell_type": "code",
   "execution_count": 19,
   "id": "476b4f2b",
   "metadata": {},
   "outputs": [],
   "source": [
    "#Question 6:\n",
    "#Please write a binary search function which searches an item in a sorted list. The\n",
    "#function should return the index of element to be searched in the list.\n",
    "\n",
    "\n",
    "def binary(list_ , item):\n",
    "    low = 0\n",
    "    high = len(lst) - 1\n",
    "    \n",
    "    while low <= high:\n",
    "        mid = round((low + high) / 2)\n",
    "        \n",
    "        if lst[mid] == item:\n",
    "            return mid\n",
    "        elif lst[mid] > item:\n",
    "            high = mid - 1\n",
    "        else:\n",
    "            low = mid + 1\n",
    "    return None\n",
    "    "
   ]
  },
  {
   "cell_type": "code",
   "execution_count": null,
   "id": "1cb430de",
   "metadata": {},
   "outputs": [],
   "source": []
  }
 ],
 "metadata": {
  "kernelspec": {
   "display_name": "Python 3 (ipykernel)",
   "language": "python",
   "name": "python3"
  },
  "language_info": {
   "codemirror_mode": {
    "name": "ipython",
    "version": 3
   },
   "file_extension": ".py",
   "mimetype": "text/x-python",
   "name": "python",
   "nbconvert_exporter": "python",
   "pygments_lexer": "ipython3",
   "version": "3.9.12"
  }
 },
 "nbformat": 4,
 "nbformat_minor": 5
}
