{
 "cells": [
  {
   "cell_type": "code",
   "execution_count": 4,
   "id": "17fcf7aa",
   "metadata": {},
   "outputs": [
    {
     "name": "stdout",
     "output_type": "stream",
     "text": [
      "sum of all element of array is: 15\n"
     ]
    }
   ],
   "source": [
    "#1. Write a Python Program to find sum of array?\n",
    "\n",
    "array=[1,2,3,4,5]\n",
    "sum=0\n",
    "for i in range(0,len(array)):\n",
    "    sum= sum + array[i]\n",
    "\n",
    "print ('sum of all element of array is:', sum)"
   ]
  },
  {
   "cell_type": "code",
   "execution_count": 26,
   "id": "1e7268b9",
   "metadata": {},
   "outputs": [
    {
     "name": "stdout",
     "output_type": "stream",
     "text": [
      "largest element in array:  19\n"
     ]
    }
   ],
   "source": [
    "#2. Write a Python Program to find largest element in an array?\n",
    "\n",
    "array=[1,2,3,4,5,6,7,8,14,19,11]\n",
    "max= array[0]\n",
    "for i in range(0,len(array)):\n",
    "    if (array[i]>max):\n",
    "        max=array[i]\n",
    "\n",
    "print(\"largest element in array: \", max)"
   ]
  },
  {
   "cell_type": "code",
   "execution_count": 37,
   "id": "cebf2222",
   "metadata": {},
   "outputs": [
    {
     "data": {
      "text/plain": [
       "[5, 4, 3, 2, 1]"
      ]
     },
     "execution_count": 37,
     "metadata": {},
     "output_type": "execute_result"
    }
   ],
   "source": [
    "#3. Write a Python Program for array rotation?\n",
    "\n",
    "l=[]\n",
    "\n",
    "array=[1,2,3,4,5]\n",
    "\n",
    "for i in range(0, len(array)):\n",
    "    l.append(array[::-1])\n",
    "    \n",
    "l[0]"
   ]
  },
  {
   "cell_type": "code",
   "execution_count": 38,
   "id": "998090f8",
   "metadata": {},
   "outputs": [
    {
     "name": "stdout",
     "output_type": "stream",
     "text": [
      "Output array is [5, 17, 10, 13]\n"
     ]
    }
   ],
   "source": [
    "#4. Write a Python Program to Split the array and add the first part to the end?\n",
    "\n",
    "def split(arr, k):\n",
    "    arr = arr[k:] + arr[:k]\n",
    "    return arr\n",
    "   \n",
    "k = 2\n",
    "arr = [10, 13, 5, 17]\n",
    "print(\"Output array is\", split(arr, k))"
   ]
  },
  {
   "cell_type": "code",
   "execution_count": 39,
   "id": "881b95a6",
   "metadata": {},
   "outputs": [],
   "source": [
    "#5. Write a Python Program to check if given array is Monotonic?\n",
    "\n",
    "def isMonotonic(A): \n",
    "        a,b=0,0 \n",
    "        for i in range(len(A)-1): \n",
    "            if A[i+1]>A[i]: \n",
    "                a+=1 \n",
    "            elif A[i+1]<A[i]: \n",
    "                b+=1 \n",
    "        if 0 in [a,b]: \n",
    "            return True \n",
    "        else: \n",
    "            return False \n",
    "        "
   ]
  },
  {
   "cell_type": "code",
   "execution_count": null,
   "id": "ae38ea4f",
   "metadata": {},
   "outputs": [],
   "source": []
  },
  {
   "cell_type": "code",
   "execution_count": null,
   "id": "5dfc0ad3",
   "metadata": {},
   "outputs": [],
   "source": []
  },
  {
   "cell_type": "code",
   "execution_count": null,
   "id": "d1f4f65c",
   "metadata": {},
   "outputs": [],
   "source": []
  }
 ],
 "metadata": {
  "kernelspec": {
   "display_name": "Python 3 (ipykernel)",
   "language": "python",
   "name": "python3"
  },
  "language_info": {
   "codemirror_mode": {
    "name": "ipython",
    "version": 3
   },
   "file_extension": ".py",
   "mimetype": "text/x-python",
   "name": "python",
   "nbconvert_exporter": "python",
   "pygments_lexer": "ipython3",
   "version": "3.10.5"
  }
 },
 "nbformat": 4,
 "nbformat_minor": 5
}
