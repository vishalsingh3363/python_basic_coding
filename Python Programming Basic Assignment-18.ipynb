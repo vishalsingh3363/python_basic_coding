{
 "cells": [
  {
   "cell_type": "code",
   "execution_count": 14,
   "id": "c77cb646",
   "metadata": {},
   "outputs": [
    {
     "name": "stdout",
     "output_type": "stream",
     "text": [
      "[1, 2, 3, 5, 6]\n"
     ]
    }
   ],
   "source": [
    "#Question 1\n",
    "#Create a function that takes a list of non-negative integers and strings and return a new list without the strings.\n",
    "\n",
    "l=[1,2,3,\"e\",5,6]\n",
    "def fun(l):\n",
    "    list_2=[]\n",
    "    \n",
    "    for i in l:\n",
    "        if type(i)==int:\n",
    "            list_2.append(i)\n",
    "            \n",
    "    return(list_2)\n",
    "\n",
    "print(fun(l))"
   ]
  },
  {
   "cell_type": "code",
   "execution_count": 17,
   "id": "5bd28544",
   "metadata": {},
   "outputs": [
    {
     "name": "stdout",
     "output_type": "stream",
     "text": [
      "Enter a string: VISHAL\n",
      "LAHSIV\n"
     ]
    }
   ],
   "source": [
    "#Question 2\n",
    "#The 'Reverser' takes a string as input and returns that string in reverse order, with the opposite case.\n",
    "\n",
    "String= input(\"Enter a string: \")\n",
    "\n",
    "print(String[::-1])"
   ]
  },
  {
   "cell_type": "code",
   "execution_count": 18,
   "id": "7aa49c60",
   "metadata": {},
   "outputs": [
    {
     "name": "stdout",
     "output_type": "stream",
     "text": [
      "first 1\n",
      "middle [2, 3, 4, 5]\n",
      "last 6\n"
     ]
    }
   ],
   "source": [
    "#Question 3\n",
    "#You can assign variables from lists like this:\n",
    "#lst = [1, 2, 3, 4, 5, 6]\n",
    "#first = lst[0]\n",
    "#middle = lst[1:-1]\n",
    "#last = lst[-1]\n",
    "#print(first) ➞ outputs 1\n",
    "#print(middle) ➞ outputs [2, 3, 4, 5]\n",
    "#print(last) ➞ outputs 6\n",
    "#With Python 3, you can assign variables from lists in a much more succinct way. Create\n",
    "#variables first, middle and last from the given list using destructuring assignment\n",
    "#(check the Resources tab for some examples), where:\n",
    "\n",
    "\n",
    "list_1 = [1, 2, 3, 4, 5, 6]\n",
    "\n",
    "first = list_1[0]\n",
    "middle = list_1[1:-1]\n",
    "last = list_1[-1]\n",
    "\n",
    "print(\"first\", first)\n",
    "print(\"middle\", middle)\n",
    "print(\"last\", last)"
   ]
  },
  {
   "cell_type": "code",
   "execution_count": 25,
   "id": "40db2cea",
   "metadata": {},
   "outputs": [
    {
     "data": {
      "text/plain": [
       "120"
      ]
     },
     "execution_count": 25,
     "metadata": {},
     "output_type": "execute_result"
    }
   ],
   "source": [
    "#Question 4\n",
    "#Write a function that calculates the factorial of a number recursively.\n",
    "\n",
    "def factorial(n): \n",
    "      if (n==1 or n==0):\n",
    "          \n",
    "        return 1\n",
    "      else:\n",
    "        return (n * factorial(n - 1)) \n",
    "factorial(5)"
   ]
  },
  {
   "cell_type": "code",
   "execution_count": 31,
   "id": "3d9b92ff",
   "metadata": {},
   "outputs": [
    {
     "name": "stdout",
     "output_type": "stream",
     "text": [
      "\n",
      "Original list:\n",
      "[3, 4, 0, 0, 0, 6, 2, 0, 6, 7, 6, 0, 0, 0, 9, 10, 7, 4, 4, 5, 3, 0, 0, 2, 9, 7, 1]\n",
      "\n",
      "Move all zero digits to end of the said list of numbers:\n",
      "[3, 4, 6, 2, 6, 7, 6, 9, 10, 7, 4, 4, 5, 3, 2, 9, 7, 1, 0, 0, 0, 0, 0, 0, 0, 0, 0]\n"
     ]
    }
   ],
   "source": [
    "#Question 5- Write a function that moves all elements of one type to the end of the list.\n",
    "\n",
    "def test(lst):\n",
    "    result = sorted(lst, key=lambda x: not x) \n",
    "    return result\n",
    "nums = [3,4,0,0,0,6,2,0,6,7,6,0,0,0,9,10,7,4,4,5,3,0,0,2,9,7,1]\n",
    "print(\"\\nOriginal list:\")\n",
    "print(nums)\n",
    "print(\"\\nMove all zero digits to end of the said list of numbers:\")\n",
    "print(test(nums))"
   ]
  },
  {
   "cell_type": "code",
   "execution_count": null,
   "id": "15607419",
   "metadata": {},
   "outputs": [],
   "source": []
  }
 ],
 "metadata": {
  "kernelspec": {
   "display_name": "Python 3 (ipykernel)",
   "language": "python",
   "name": "python3"
  },
  "language_info": {
   "codemirror_mode": {
    "name": "ipython",
    "version": 3
   },
   "file_extension": ".py",
   "mimetype": "text/x-python",
   "name": "python",
   "nbconvert_exporter": "python",
   "pygments_lexer": "ipython3",
   "version": "3.9.12"
  }
 },
 "nbformat": 4,
 "nbformat_minor": 5
}
