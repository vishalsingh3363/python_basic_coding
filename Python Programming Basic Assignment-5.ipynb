{
 "cells": [
  {
   "cell_type": "code",
   "execution_count": 1,
   "id": "031f5a49",
   "metadata": {},
   "outputs": [
    {
     "name": "stdout",
     "output_type": "stream",
     "text": [
      "Enter the Two numbers whose LCM you have to find\n",
      "enter number 1: 22\n",
      "enter number 2: 34\n",
      "LCM is: 374\n"
     ]
    }
   ],
   "source": [
    "#1. Write a Python Program to Find LCM?\n",
    "\n",
    "print(\"Enter the Two numbers whose LCM you have to find\")\n",
    "a=int(input('enter number 1: '))\n",
    "b=int(input('enter number 2: '))\n",
    "\n",
    "for i in range(1, a*b+1):\n",
    "    if i%a==0 and i%b==0:\n",
    "        print(\"LCM is:\", i)\n",
    "        break"
   ]
  },
  {
   "cell_type": "code",
   "execution_count": 2,
   "id": "55f2949a",
   "metadata": {},
   "outputs": [
    {
     "name": "stdout",
     "output_type": "stream",
     "text": [
      "Enter the Two numbers whose HCF you have to find\n",
      "enter number 1: 12\n",
      "enter number 2: 45\n",
      "HCF is: 3\n"
     ]
    }
   ],
   "source": [
    "#2. Write a Python Program to Find HCF?\n",
    "\n",
    "print(\"Enter the Two numbers whose HCF you have to find\")\n",
    "a=int(input('enter number 1: '))\n",
    "b=int(input('enter number 2: '))\n",
    "\n",
    "while a%b !=0:\n",
    "    rem=a%b\n",
    "    a=b\n",
    "    b=rem\n",
    "    \n",
    "print(\"HCF is:\", b)"
   ]
  },
  {
   "cell_type": "code",
   "execution_count": 3,
   "id": "bf0c3b36",
   "metadata": {},
   "outputs": [
    {
     "name": "stdout",
     "output_type": "stream",
     "text": [
      "0b101101\n",
      "0o55\n",
      "0x2d\n"
     ]
    }
   ],
   "source": [
    "#3. Write a Python Program to Convert Decimal to Binary, Octal and Hexadecimal?\n",
    "\n",
    "decimal= 45\n",
    "\n",
    "print(bin(decimal))\n",
    "print(oct(decimal))\n",
    "print(hex(decimal))\n"
   ]
  },
  {
   "cell_type": "code",
   "execution_count": 4,
   "id": "b06a547d",
   "metadata": {},
   "outputs": [
    {
     "name": "stdout",
     "output_type": "stream",
     "text": [
      "Please enter a character: 6\n",
      "The ASCII value of '6' is  54\n"
     ]
    }
   ],
   "source": [
    "#4. Write a Python Program To Find ASCII value of a character?\n",
    "\n",
    "K = input(\"Please enter a character: \")    \n",
    "    \n",
    "print (\"The ASCII value of '\" + K + \"' is \", ord(K))  \n"
   ]
  },
  {
   "cell_type": "code",
   "execution_count": 9,
   "id": "ad6b4141",
   "metadata": {},
   "outputs": [
    {
     "name": "stdout",
     "output_type": "stream",
     "text": [
      "\n",
      "Please type in the math operation you would like to complete:\n",
      "+ for addition\n",
      "- for subtraction\n",
      "* for multiplication\n",
      "/ for division\n",
      "+\n",
      "enter number 1-12\n",
      "enter number 2-14\n",
      "26\n"
     ]
    }
   ],
   "source": [
    "#5. Write a Python Program to Make a Simple Calculator with 4 basic mathematical operations?\n",
    "\n",
    "operation = input('''\n",
    "Please type in the math operation you would like to complete:\n",
    "+ for addition\n",
    "- for subtraction\n",
    "* for multiplication\n",
    "/ for division\n",
    "''')\n",
    "num1=int(input('enter number 1-'))\n",
    "num2=int(input('enter number 2-'))\n",
    "\n",
    "if operation=='+':\n",
    "    result= num1+num2\n",
    "    print(result)\n",
    "\n",
    "elif operation=='-':\n",
    "    result= num1-num2\n",
    "    print(result)\n",
    "    \n",
    "elif operation=='*':\n",
    "    result= num1*num2\n",
    "    print(result)\n",
    "    \n",
    "elif operation=='/':\n",
    "    result= num1/num2\n",
    "    print(result)\n",
    "    \n",
    "else:\n",
    "    print(\"enter correct method\")"
   ]
  },
  {
   "cell_type": "code",
   "execution_count": null,
   "id": "78c587e6",
   "metadata": {},
   "outputs": [],
   "source": []
  }
 ],
 "metadata": {
  "kernelspec": {
   "display_name": "Python 3 (ipykernel)",
   "language": "python",
   "name": "python3"
  },
  "language_info": {
   "codemirror_mode": {
    "name": "ipython",
    "version": 3
   },
   "file_extension": ".py",
   "mimetype": "text/x-python",
   "name": "python",
   "nbconvert_exporter": "python",
   "pygments_lexer": "ipython3",
   "version": "3.10.5"
  }
 },
 "nbformat": 4,
 "nbformat_minor": 5
}
