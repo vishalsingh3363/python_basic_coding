{
 "cells": [
  {
   "cell_type": "code",
   "execution_count": 1,
   "id": "54486e9d",
   "metadata": {},
   "outputs": [
    {
     "name": "stdout",
     "output_type": "stream",
     "text": [
      "enter the word :incredible\n",
      "in...in...incredible\n"
     ]
    }
   ],
   "source": [
    "#Question1. Write a function that stutters a word as if someone is struggling to read it. The\n",
    "#first two letters are repeated twice with an ellipsis ... and space after each, and then the\n",
    "#word is pronounced with a question mark ?.\n",
    "\n",
    "n=input('enter the word :')\n",
    "\n",
    "word= n[:2]\n",
    "\n",
    "result= (2*(word + '...'))+n\n",
    "\n",
    "print(result)"
   ]
  },
  {
   "cell_type": "code",
   "execution_count": 5,
   "id": "3675cf89",
   "metadata": {},
   "outputs": [
    {
     "name": "stdout",
     "output_type": "stream",
     "text": [
      "Enter value of angle in radian 20\n",
      "value of angle in degree is : 1145.4545454545455\n"
     ]
    }
   ],
   "source": [
    "#Question 2.Create a function that takes an angle in radians and returns the corresponding\n",
    "#angle in degrees rounded to one decimal place.\n",
    "\n",
    "radian= int(input('Enter value of angle in radian '))\n",
    "pi=22/7\n",
    "degree = radian * (180/pi)\n",
    "\n",
    "print(\"value of angle in degree is :\", degree)"
   ]
  },
  {
   "cell_type": "code",
   "execution_count": 9,
   "id": "d25a2c70",
   "metadata": {},
   "outputs": [
    {
     "name": "stdout",
     "output_type": "stream",
     "text": [
      "enter the number10\n",
      "Number is not curzon\n"
     ]
    }
   ],
   "source": [
    "#Question 3. In this challenge, establish if a given integer num is a Curzon number. If 1 plus\n",
    "#2 elevated to num is exactly divisible by 1 plus 2 multiplied by num, then num is a Curzon\n",
    "#number.\n",
    "#Given a non-negative integer num, implement a function that returns True if num is a Curzon\n",
    "#number, or False otherwise.\n",
    "\n",
    "num= int(input(\"enter the number\"))\n",
    "\n",
    "num1= 2** num +1\n",
    "num2= 2* num +1\n",
    "\n",
    "if num1%num2==0:\n",
    "    print(\"Number is curzon\")\n",
    "else:\n",
    "    print(\"Number is not curzon\")"
   ]
  },
  {
   "cell_type": "code",
   "execution_count": 21,
   "id": "eaa95354",
   "metadata": {},
   "outputs": [
    {
     "name": "stdout",
     "output_type": "stream",
     "text": [
      "Enter length of side: 3\n",
      "Area of hexagon is : 23.382685902179844\n"
     ]
    }
   ],
   "source": [
    "#Question 4.Given the side length x find the area of a hexagon.\n",
    "\n",
    "import math\n",
    "from numpy import sqrt \n",
    "Side_length= int(input(\"Enter length of side: \"))\n",
    "\n",
    "Area= ((3 * sqrt(3)*(Side_length**2)) / 2)\n",
    "print(\"Area of hexagon is :\", Area)"
   ]
  },
  {
   "cell_type": "code",
   "execution_count": 25,
   "id": "877c8588",
   "metadata": {},
   "outputs": [],
   "source": [
    "#Question 5. Create a function that returns a base-2 (binary) representation of a base-10\n",
    "#(decimal) string number. To convert is simple: ((2) means base-2 and (10) means base-10)\n",
    "#010101001(2) = 1 + 8 + 32 + 128.\n",
    "#Going from right to left, the value of the most right bit is 1, now from that every bit to the left\n",
    "#will be x2 the value, value of an 8 bit binary numbers are (256, 128, 64, 32, 16, 8, 4, 2, 1).\n",
    "\n",
    "\n"
   ]
  },
  {
   "cell_type": "code",
   "execution_count": null,
   "id": "aa9a94e3",
   "metadata": {},
   "outputs": [],
   "source": [
    "\n"
   ]
  },
  {
   "cell_type": "code",
   "execution_count": null,
   "id": "0917a3ee",
   "metadata": {},
   "outputs": [],
   "source": []
  },
  {
   "cell_type": "code",
   "execution_count": null,
   "id": "3acb1774",
   "metadata": {},
   "outputs": [],
   "source": []
  }
 ],
 "metadata": {
  "kernelspec": {
   "display_name": "Python 3 (ipykernel)",
   "language": "python",
   "name": "python3"
  },
  "language_info": {
   "codemirror_mode": {
    "name": "ipython",
    "version": 3
   },
   "file_extension": ".py",
   "mimetype": "text/x-python",
   "name": "python",
   "nbconvert_exporter": "python",
   "pygments_lexer": "ipython3",
   "version": "3.9.12"
  }
 },
 "nbformat": 4,
 "nbformat_minor": 5
}
