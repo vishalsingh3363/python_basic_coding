{
 "cells": [
  {
   "cell_type": "code",
   "execution_count": 1,
   "id": "ef12013d",
   "metadata": {},
   "outputs": [
    {
     "data": {
      "text/plain": [
       "0"
      ]
     },
     "execution_count": 1,
     "metadata": {},
     "output_type": "execute_result"
    }
   ],
   "source": [
    "#Question1. Create a function that takes three arguments a, b, c and returns the sum of the\n",
    "#numbers that are evenly divided by c from the range a, b inclusive.\n",
    "\n",
    "def test(a, b, c):\n",
    "    counter = 0\n",
    "    for i in range(a, b):\n",
    "        if (i % c == 0):\n",
    "            counter = counter + 1\n",
    "    return counter\n",
    " \n",
    "\n",
    "test(1,10,20)"
   ]
  },
  {
   "cell_type": "code",
   "execution_count": 2,
   "id": "2f9c58aa",
   "metadata": {},
   "outputs": [
    {
     "name": "stdout",
     "output_type": "stream",
     "text": [
      "enter value of x :3\n",
      "enter value of m :1\n",
      "enter value of n :5\n",
      "1 < 3 < 5 True\n"
     ]
    }
   ],
   "source": [
    "#Question2. Create a function that returns True if a given inequality expression is correct and False otherwise.\n",
    "\n",
    "x=int(input(\"enter value of x :\"))\n",
    "\n",
    "m=int(input(\"enter value of m :\"))\n",
    "\n",
    "n=int(input(\"enter value of n :\"))\n",
    "\n",
    "\n",
    "if m<x and x<n:\n",
    "    print(m,'<',x,'<',n ,\"True\")\n",
    "else:\n",
    "    print(m,'<',x,'<',n ,\"False\")"
   ]
  },
  {
   "cell_type": "code",
   "execution_count": 21,
   "id": "27daac0d",
   "metadata": {},
   "outputs": [
    {
     "name": "stdout",
     "output_type": "stream",
     "text": [
      "Enter a word :aseeerde\n",
      "Enter char :#\n",
      "New String: #s###rd#\n"
     ]
    }
   ],
   "source": [
    "#Question3. Create a function that replaces all the vowels in a string with a specified character.\n",
    "\n",
    "word= input('Enter a word :')\n",
    "char=input('Enter char :')\n",
    "\n",
    "newstr=\"\"\n",
    "for i in range(len(word)):\n",
    "    if word[i]=='a' or word[i]=='e' or word[i]=='i' or word[i]=='o' or word[i]=='u':\n",
    "        newstr = newstr + char\n",
    "    else:\n",
    "        newstr = newstr + word[i]\n",
    "        \n",
    "print(\"New String:\", newstr)"
   ]
  },
  {
   "cell_type": "code",
   "execution_count": 22,
   "id": "e6a7c4d8",
   "metadata": {},
   "outputs": [
    {
     "name": "stdout",
     "output_type": "stream",
     "text": [
      "The factorial of 7 is 5040\n"
     ]
    }
   ],
   "source": [
    "#Question4. Write a function that calculates the factorial of a number recursively.\n",
    "\n",
    "def recur_factorial(n):\n",
    "   if n == 1:\n",
    "       return n\n",
    "   else:\n",
    "       return n*recur_factorial(n-1)\n",
    "\n",
    "num = 7\n",
    "\n",
    "\n",
    "if num < 0:\n",
    "   print(\"Sorry, factorial does not exist for negative numbers\")\n",
    "elif num == 0:\n",
    "   print(\"The factorial of 0 is 1\")\n",
    "else:\n",
    "   print(\"The factorial of\", num, \"is\", recur_factorial(num))"
   ]
  },
  {
   "cell_type": "code",
   "execution_count": 25,
   "id": "8665b1a5",
   "metadata": {},
   "outputs": [
    {
     "data": {
      "text/plain": [
       "2"
      ]
     },
     "execution_count": 25,
     "metadata": {},
     "output_type": "execute_result"
    }
   ],
   "source": [
    "#Question 5\n",
    "#Hamming distance is the number of characters that differ between two strings.\n",
    "#To illustrate:\n",
    "#String1: &quot;abcbba&quot;\n",
    "#String2: &quot;abcbda&quot;\n",
    "#Hamming Distance: 1 - &quot;b&quot; vs. &quot;d&quot; is the only difference.\n",
    "#Create a function that computes the hamming distance between two strings.\n",
    "\n",
    "def hamming_distance(string1, string2): \n",
    "    distance = 0\n",
    "    L = len(string1)\n",
    "    for i in range(L):\n",
    "        if string1[i] != string2[i]:\n",
    "            distance += 1\n",
    "    return distance\n",
    "\n",
    "hamming_distance(\"GATTACA\", \"GACTATA\")"
   ]
  },
  {
   "cell_type": "code",
   "execution_count": null,
   "id": "095b4767",
   "metadata": {},
   "outputs": [],
   "source": []
  }
 ],
 "metadata": {
  "kernelspec": {
   "display_name": "Python 3 (ipykernel)",
   "language": "python",
   "name": "python3"
  },
  "language_info": {
   "codemirror_mode": {
    "name": "ipython",
    "version": 3
   },
   "file_extension": ".py",
   "mimetype": "text/x-python",
   "name": "python",
   "nbconvert_exporter": "python",
   "pygments_lexer": "ipython3",
   "version": "3.9.12"
  }
 },
 "nbformat": 4,
 "nbformat_minor": 5
}
