{
 "cells": [
  {
   "cell_type": "code",
   "execution_count": 15,
   "id": "2e608f69",
   "metadata": {},
   "outputs": [
    {
     "name": "stdout",
     "output_type": "stream",
     "text": [
      "enter a wordqwe\n",
      "qq\n",
      "ww\n",
      "ee\n"
     ]
    }
   ],
   "source": [
    "#Question1\n",
    "#Create a function that takes a string and returns a string in which each character is repeated once.\n",
    "\n",
    "word= input(\"enter a word\")\n",
    "\n",
    "for i in word:\n",
    "    print(i*2)"
   ]
  },
  {
   "cell_type": "code",
   "execution_count": 19,
   "id": "4bf7afda",
   "metadata": {},
   "outputs": [
    {
     "name": "stdout",
     "output_type": "stream",
     "text": [
      "False\n",
      "True\n",
      "boolean expected\n",
      "boolean expected\n"
     ]
    }
   ],
   "source": [
    "#Question2\n",
    "#Create a function that reverses a boolean value and returns the string ''boolean expected' if another variable type is given.\n",
    "\n",
    "def reverse(arg):\n",
    "    if isinstance(arg, bool):\n",
    "        return not arg\n",
    "    else:\n",
    "        return('boolean expected')\n",
    "\n",
    "def reverse(arg=None):\n",
    "    return not arg if type(arg) == bool else \"boolean expected\"\n",
    "\n",
    "print(reverse(True))\n",
    "print(reverse(False)) \n",
    "print(reverse(0)) \n",
    "print(reverse(None)) "
   ]
  },
  {
   "cell_type": "code",
   "execution_count": 20,
   "id": "e4e5c374",
   "metadata": {},
   "outputs": [
    {
     "data": {
      "text/plain": [
       "2.5"
      ]
     },
     "execution_count": 20,
     "metadata": {},
     "output_type": "execute_result"
    }
   ],
   "source": [
    "#Question3\n",
    "#Create a function that returns the thickness (in meters) of a piece of paper after folding it n\n",
    "#number of times. The paper starts off with a thickness of 0.5mm.\n",
    "\n",
    "def thickness(n_folds):\n",
    "    return 0.5*(n_folds)\n",
    "\n",
    "thickness(5)"
   ]
  },
  {
   "cell_type": "code",
   "execution_count": 26,
   "id": "73ebbabb",
   "metadata": {},
   "outputs": [
    {
     "data": {
      "text/plain": [
       "[2, 3, 6, 8]"
      ]
     },
     "execution_count": 26,
     "metadata": {},
     "output_type": "execute_result"
    }
   ],
   "source": [
    "#Question4\n",
    "#Create a function that takes a single string as argument and returns an ordered list containing the indices of all capital letters in the string.\n",
    "\n",
    "capitals = lambda word: [i for i,val in enumerate(word) if val.isupper()]\n",
    "capitals('sdEAnzLiE')"
   ]
  },
  {
   "cell_type": "code",
   "execution_count": 30,
   "id": "6723281e",
   "metadata": {},
   "outputs": [
    {
     "name": "stdout",
     "output_type": "stream",
     "text": [
      "Enter Number12\n"
     ]
    },
    {
     "data": {
      "text/plain": [
       "[0, 2, 4, 6, 8, 10]"
      ]
     },
     "execution_count": 30,
     "metadata": {},
     "output_type": "execute_result"
    }
   ],
   "source": [
    "#Question5\n",
    "#Using list comprehensions, create a function that finds all even numbers from 1 to the given number.\n",
    "\n",
    "num = int(input(\"Enter Number\"))\n",
    "\n",
    "l=[]\n",
    "for i in range(0,num):\n",
    "    if i%2==0:\n",
    "        l.append(i)\n",
    "\n",
    "l"
   ]
  },
  {
   "cell_type": "code",
   "execution_count": null,
   "id": "0d4022c4",
   "metadata": {},
   "outputs": [],
   "source": []
  }
 ],
 "metadata": {
  "kernelspec": {
   "display_name": "Python 3 (ipykernel)",
   "language": "python",
   "name": "python3"
  },
  "language_info": {
   "codemirror_mode": {
    "name": "ipython",
    "version": 3
   },
   "file_extension": ".py",
   "mimetype": "text/x-python",
   "name": "python",
   "nbconvert_exporter": "python",
   "pygments_lexer": "ipython3",
   "version": "3.9.12"
  }
 },
 "nbformat": 4,
 "nbformat_minor": 5
}
