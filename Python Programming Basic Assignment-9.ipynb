{
 "cells": [
  {
   "cell_type": "code",
   "execution_count": 2,
   "id": "15beb124",
   "metadata": {},
   "outputs": [
    {
     "name": "stdout",
     "output_type": "stream",
     "text": [
      "Enter the number: 123\n",
      "The number is not a disarium number!!\n"
     ]
    }
   ],
   "source": [
    "#1. Write a Python program to check if the given number is a Disarium Number?\n",
    "\n",
    "num = int(input(\"Enter the number: \"))\n",
    "dig_num = len(str(num))\n",
    "\n",
    "count = 0\n",
    "sum = 0\n",
    "for i in str(num):\n",
    "    count += 1\n",
    "    for j in range(count, dig_num + 1):\n",
    "        sum += int(i)**j\n",
    "        break\n",
    "\n",
    "if num == sum:\n",
    "    print(\"The number is a disarium number!!\")\n",
    "else:\n",
    "    print(\"The number is not a disarium number!!\")"
   ]
  },
  {
   "cell_type": "code",
   "execution_count": 19,
   "id": "d7aaff14",
   "metadata": {},
   "outputs": [
    {
     "name": "stdout",
     "output_type": "stream",
     "text": [
      "1 2 3 4 5 6 7 8 9 89 "
     ]
    }
   ],
   "source": [
    "#2. Write a Python program to print all disarium numbers between 1 to 100?\n",
    "\n",
    "\n",
    "\n",
    "for m in range(1,101):\n",
    "    num = m\n",
    "    ans = 0\n",
    "    digit_s = len(str(num))\n",
    "    \n",
    "    dup_numbr = num\n",
    "    while (dup_numbr != 0):\n",
    "        \n",
    "        remaindr = dup_numbr % 10\n",
    "        ans = ans + remaindr**digit_s\n",
    "        digit_s = digit_s - 1\n",
    "        dup_numbr = dup_numbr//10\n",
    "    \n",
    "    if(num == ans):\n",
    "        print(num, end=' ')"
   ]
  },
  {
   "cell_type": "code",
   "execution_count": 3,
   "id": "ec5d5a15",
   "metadata": {},
   "outputs": [
    {
     "name": "stdout",
     "output_type": "stream",
     "text": [
      "enter number19\n",
      "19 is a happy number\n"
     ]
    }
   ],
   "source": [
    "#3. Write a Python program to check if the given number is Happy Number?\n",
    "\n",
    "n= int(input(\"enter number\"))\n",
    "x=n\n",
    "while x>=10:\n",
    "    sum=0\n",
    "    while x>0:\n",
    "        r=x%10\n",
    "        sum=sum+(r**2)\n",
    "        x=x//10\n",
    "    x=sum\n",
    "if x==1:\n",
    "    print(n, \"is a happy number\")\n",
    "    \n",
    "else:\n",
    "    print(n, \"is not a happy number\")"
   ]
  },
  {
   "cell_type": "code",
   "execution_count": 9,
   "id": "e8106a70",
   "metadata": {},
   "outputs": [],
   "source": [
    "#4. Write a Python program to print all happy numbers between 1 and 100?\n",
    "\n",
    "\n",
    "x= range(0,101)\n",
    "while x==1:\n",
    "    sum=0\n",
    "    while x>0:\n",
    "        r=x%10\n",
    "        sum=sum+(r**2)\n",
    "        x=x//10\n",
    "    x=sum\n",
    "\n",
    "if x==1:\n",
    "    print(n, \"is a happy number\")"
   ]
  },
  {
   "cell_type": "code",
   "execution_count": 18,
   "id": "f1a12ef6",
   "metadata": {},
   "outputs": [
    {
     "name": "stdout",
     "output_type": "stream",
     "text": [
      "enter any number:112\n",
      "112  is harshad number\n"
     ]
    }
   ],
   "source": [
    "#5. Write a Python program to determine whether the given number is a Harshad Number?\n",
    "\n",
    "sum=0\n",
    "n=int(input('enter any number:'))\n",
    "\n",
    "c=n\n",
    "while c>0:\n",
    "    r= c%10\n",
    "    sum=sum+r\n",
    "    c=c//10\n",
    "if n%sum== 0:\n",
    "    print(n, ' is harshad number')\n",
    "else:\n",
    "    print(n, 'is not a harshad number')"
   ]
  },
  {
   "cell_type": "code",
   "execution_count": 11,
   "id": "856fcd13",
   "metadata": {},
   "outputs": [
    {
     "name": "stdout",
     "output_type": "stream",
     "text": [
      "Pronic numbers between 1 and 100: \n",
      "2\n",
      " \n",
      "6\n",
      " \n",
      "12\n",
      " \n",
      "20\n",
      " \n",
      "30\n",
      " \n",
      "42\n",
      " \n",
      "56\n",
      " \n",
      "72\n",
      " \n",
      "90\n",
      " \n"
     ]
    }
   ],
   "source": [
    "#6. Write a Python program to print all pronic numbers between 1 and 100?\n",
    "\n",
    "def PronicNumber(num):    \n",
    "    flag = False\n",
    "        \n",
    "    for j in range(1, num+1):    \n",
    "        #Checks for pronic number by multiplying consecutive numbers    \n",
    "        if((j*(j+1)) == num):    \n",
    "            flag = True;    \n",
    "            break;    \n",
    "    return flag;    \n",
    "     \n",
    "#Displays pronic numbers between 1 and 100    \n",
    "print(\"Pronic numbers between 1 and 100: \");    \n",
    "for i in range(1, 101):    \n",
    "    if(PronicNumber(i)):    \n",
    "        print(i),    \n",
    "        print(\" \"), "
   ]
  },
  {
   "cell_type": "code",
   "execution_count": null,
   "id": "00a22cc0",
   "metadata": {},
   "outputs": [],
   "source": []
  },
  {
   "cell_type": "code",
   "execution_count": null,
   "id": "12f49f61",
   "metadata": {},
   "outputs": [],
   "source": []
  },
  {
   "cell_type": "code",
   "execution_count": null,
   "id": "dfd94b57",
   "metadata": {},
   "outputs": [],
   "source": []
  }
 ],
 "metadata": {
  "kernelspec": {
   "display_name": "Python 3 (ipykernel)",
   "language": "python",
   "name": "python3"
  },
  "language_info": {
   "codemirror_mode": {
    "name": "ipython",
    "version": 3
   },
   "file_extension": ".py",
   "mimetype": "text/x-python",
   "name": "python",
   "nbconvert_exporter": "python",
   "pygments_lexer": "ipython3",
   "version": "3.10.5"
  }
 },
 "nbformat": 4,
 "nbformat_minor": 5
}
