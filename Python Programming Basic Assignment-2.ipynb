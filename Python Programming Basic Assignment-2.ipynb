{
 "cells": [
  {
   "cell_type": "code",
   "execution_count": 2,
   "id": "4a64b978",
   "metadata": {},
   "outputs": [
    {
     "name": "stdout",
     "output_type": "stream",
     "text": [
      "value to kilometer12\n",
      "value of km after converting to miles is: 7.4564520000000005\n"
     ]
    }
   ],
   "source": [
    "#1. Write a Python program to convert kilometers to miles?\n",
    "#as we know 1 km = 0.621371 miles\n",
    "\n",
    "kilometer=int(input('value to kilometer'))\n",
    "\n",
    "miles= 0.621371*kilometer\n",
    "\n",
    "print(\"value of km after converting to miles is:\", miles)"
   ]
  },
  {
   "cell_type": "code",
   "execution_count": 3,
   "id": "6d6dc07c",
   "metadata": {},
   "outputs": [
    {
     "name": "stdout",
     "output_type": "stream",
     "text": [
      "enter temp in degree celcius20\n",
      "Temperature after converting celcius to fahrenheit is: 68.0\n"
     ]
    }
   ],
   "source": [
    "#2. Write a Python program to convert Celsius to Fahrenheit?\n",
    "# formula for converting celcius to fahrenheit (0°C × 9/5) + 32 = 32°F\n",
    "\n",
    "celcius= int(input('enter temp in degree celcius'))\n",
    "\n",
    "fahrenheit = (celcius*(9/5)) + 32\n",
    "\n",
    "print('Temperature after converting celcius to fahrenheit is:', fahrenheit )"
   ]
  },
  {
   "cell_type": "code",
   "execution_count": 33,
   "id": "8380c0cf",
   "metadata": {},
   "outputs": [
    {
     "name": "stdout",
     "output_type": "stream",
     "text": [
      "                                  2022\n",
      "\n",
      "      January                   February                   March\n",
      "Mo Tu We Th Fr Sa Su      Mo Tu We Th Fr Sa Su      Mo Tu We Th Fr Sa Su\n",
      "                1  2          1  2  3  4  5  6          1  2  3  4  5  6\n",
      " 3  4  5  6  7  8  9       7  8  9 10 11 12 13       7  8  9 10 11 12 13\n",
      "10 11 12 13 14 15 16      14 15 16 17 18 19 20      14 15 16 17 18 19 20\n",
      "17 18 19 20 21 22 23      21 22 23 24 25 26 27      21 22 23 24 25 26 27\n",
      "24 25 26 27 28 29 30      28                        28 29 30 31\n",
      "31\n",
      "\n",
      "       April                      May                       June\n",
      "Mo Tu We Th Fr Sa Su      Mo Tu We Th Fr Sa Su      Mo Tu We Th Fr Sa Su\n",
      "             1  2  3                         1             1  2  3  4  5\n",
      " 4  5  6  7  8  9 10       2  3  4  5  6  7  8       6  7  8  9 10 11 12\n",
      "11 12 13 14 15 16 17       9 10 11 12 13 14 15      13 14 15 16 17 18 19\n",
      "18 19 20 21 22 23 24      16 17 18 19 20 21 22      20 21 22 23 24 25 26\n",
      "25 26 27 28 29 30         23 24 25 26 27 28 29      27 28 29 30\n",
      "                          30 31\n",
      "\n",
      "        July                     August                  September\n",
      "Mo Tu We Th Fr Sa Su      Mo Tu We Th Fr Sa Su      Mo Tu We Th Fr Sa Su\n",
      "             1  2  3       1  2  3  4  5  6  7                1  2  3  4\n",
      " 4  5  6  7  8  9 10       8  9 10 11 12 13 14       5  6  7  8  9 10 11\n",
      "11 12 13 14 15 16 17      15 16 17 18 19 20 21      12 13 14 15 16 17 18\n",
      "18 19 20 21 22 23 24      22 23 24 25 26 27 28      19 20 21 22 23 24 25\n",
      "25 26 27 28 29 30 31      29 30 31                  26 27 28 29 30\n",
      "\n",
      "      October                   November                  December\n",
      "Mo Tu We Th Fr Sa Su      Mo Tu We Th Fr Sa Su      Mo Tu We Th Fr Sa Su\n",
      "                1  2          1  2  3  4  5  6                1  2  3  4\n",
      " 3  4  5  6  7  8  9       7  8  9 10 11 12 13       5  6  7  8  9 10 11\n",
      "10 11 12 13 14 15 16      14 15 16 17 18 19 20      12 13 14 15 16 17 18\n",
      "17 18 19 20 21 22 23      21 22 23 24 25 26 27      19 20 21 22 23 24 25\n",
      "24 25 26 27 28 29 30      28 29 30                  26 27 28 29 30 31\n",
      "31\n",
      "\n"
     ]
    }
   ],
   "source": [
    "#3. Write a Python program to display calendar?\n",
    "\n",
    "\n",
    "import calendar\n",
    " \n",
    "yy = 2022\n",
    " \n",
    "\n",
    "print(calendar.calendar(yy))"
   ]
  },
  {
   "cell_type": "code",
   "execution_count": 23,
   "id": "244da6ba",
   "metadata": {},
   "outputs": [
    {
     "name": "stdout",
     "output_type": "stream",
     "text": [
      "enter value of a =11\n",
      "enter value of b =10\n",
      "enter value of c =8\n",
      "root 1 of equation is: (-0.4545454545454545+0.721568539381252j)\n",
      "root 2 of equation is: (-0.45454545454545464-0.721568539381252j)\n"
     ]
    }
   ],
   "source": [
    "#4. Write a Python program to solve quadratic equation?\n",
    "#Quadratic equation is ax2 + bx + c = 0\n",
    "\n",
    "import math\n",
    "a= int(input('enter value of a ='))\n",
    "b= int(input('enter value of b ='))\n",
    "c= int(input('enter value of c ='))\n",
    "root1 = (-b + (b ** 2 - 4 * a * c) ** 0.5) / (2 * a)\n",
    "root2 = (-b - (b ** 2 - 4 * a * c) ** 0.5) / (2 * a)\n",
    "\n",
    "print('root 1 of equation is:', root1)\n",
    "print('root 2 of equation is:', root2)\n"
   ]
  },
  {
   "cell_type": "code",
   "execution_count": 27,
   "id": "2ca01334",
   "metadata": {},
   "outputs": [
    {
     "name": "stdout",
     "output_type": "stream",
     "text": [
      "Before swapping value of a = 20 and b= 35\n",
      "After swapping value of a = 35 and b= 20\n"
     ]
    }
   ],
   "source": [
    "#5. Write a Python program to swap two variables without temp variable?\n",
    "\n",
    "a =20\n",
    "b =35\n",
    "\n",
    "print('Before swapping value of a =', a, 'and b=', b)\n",
    "\n",
    "a,b=b,a\n",
    "\n",
    "print('After swapping value of a =', a, 'and b=', b)"
   ]
  },
  {
   "cell_type": "code",
   "execution_count": null,
   "id": "3969a578",
   "metadata": {},
   "outputs": [],
   "source": []
  },
  {
   "cell_type": "code",
   "execution_count": null,
   "id": "328fa589",
   "metadata": {},
   "outputs": [],
   "source": []
  },
  {
   "cell_type": "code",
   "execution_count": null,
   "id": "c6dc18d8",
   "metadata": {},
   "outputs": [],
   "source": []
  }
 ],
 "metadata": {
  "kernelspec": {
   "display_name": "Python 3 (ipykernel)",
   "language": "python",
   "name": "python3"
  },
  "language_info": {
   "codemirror_mode": {
    "name": "ipython",
    "version": 3
   },
   "file_extension": ".py",
   "mimetype": "text/x-python",
   "name": "python",
   "nbconvert_exporter": "python",
   "pygments_lexer": "ipython3",
   "version": "3.10.5"
  }
 },
 "nbformat": 4,
 "nbformat_minor": 5
}
