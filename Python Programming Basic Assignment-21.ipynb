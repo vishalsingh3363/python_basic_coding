{
 "cells": [
  {
   "cell_type": "code",
   "execution_count": 7,
   "id": "2a3f4169",
   "metadata": {},
   "outputs": [
    {
     "data": {
      "text/plain": [
       "[43, 67, 55, 11, 12, 39, 'Vishal', 22]"
      ]
     },
     "execution_count": 7,
     "metadata": {},
     "output_type": "execute_result"
    }
   ],
   "source": [
    "#Question1\n",
    "#Write a function that takes a list and a number as arguments. Add the number to the end of\n",
    "#the list, then remove the first element of the list. The function should then return the updated list.\n",
    "\n",
    "\n",
    "list_1 = [23,43,67,55,11,12,39,\"Vishal\",22]\n",
    " \n",
    "x= list_1[0]\n",
    "list_1.remove(x)\n",
    " \n",
    "list_1\n"
   ]
  },
  {
   "cell_type": "code",
   "execution_count": 32,
   "id": "b8b1985d",
   "metadata": {},
   "outputs": [
    {
     "data": {
      "text/plain": [
       "dict_values(['john', 21, 23000])"
      ]
     },
     "execution_count": 32,
     "metadata": {},
     "output_type": "execute_result"
    }
   ],
   "source": [
    "#Question2\n",
    "#Create the function that takes a list of dictionaries and returns the sum of people&#39;s budgets.\n",
    "\n",
    "get_budgets= [{ 'name' : 'john' , 'age' : 21 , 'budget': 23000 }, { 'name' : 'Steve', 'age' : 32,  'budget' : 40000 },{ 'name ': 'Martin', 'age': 16, 'budget' : 2700 }]\n",
    "get_budgets[0].values()"
   ]
  },
  {
   "cell_type": "code",
   "execution_count": 33,
   "id": "15eb5456",
   "metadata": {},
   "outputs": [
    {
     "name": "stdout",
     "output_type": "stream",
     "text": [
      "HNOPTY\n"
     ]
    }
   ],
   "source": [
    "#Question3\n",
    "#Create a function that takes a string and returns a string with its letters in alphabetical order.\n",
    "\n",
    "def sortString(str):\n",
    "    return ''.join(sorted(str))\n",
    "      \n",
    "\n",
    "str = 'PYTHON'\n",
    "print(sortString(str))"
   ]
  },
  {
   "cell_type": "code",
   "execution_count": 39,
   "id": "e6e86a37",
   "metadata": {},
   "outputs": [
    {
     "name": "stdout",
     "output_type": "stream",
     "text": [
      "Compound interest is 6288.946267774416\n"
     ]
    }
   ],
   "source": [
    "#Question4\n",
    "#Suppose that you invest $10,000 for 10 years at an interest rate of 6% compounded monthly.\n",
    "#What will be the value of your investment at the end of the 10 year period?\n",
    "#Create a function that accepts the principal p, the term in years t, the interest rate r, and the\n",
    "#number of compounding periods per year n. The function returns the value at the end of term\n",
    "#rounded to the nearest cent.\n",
    "\n",
    "def compound_interest(principle, rate, time):\n",
    "    Amount = principle * (pow((1 + rate / 100), time))\n",
    "    CI = Amount - principle\n",
    "    print(\"Compound interest is\", CI)\n",
    " \n",
    "compound_interest(10000, 10.25, 5)\n",
    "\n"
   ]
  },
  {
   "cell_type": "code",
   "execution_count": 67,
   "id": "6de35bf8",
   "metadata": {},
   "outputs": [
    {
     "name": "stdout",
     "output_type": "stream",
     "text": [
      "[]\n"
     ]
    }
   ],
   "source": [
    "#Question5\n",
    "#Write a function that takes a list of elements and returns only the integers.\n",
    "\n",
    "list_1= [9, 2, 'space' , 'car', 'lion' , 16]\n",
    "\n",
    "l=[]\n",
    "\n",
    "for i in list_1:\n",
    "    if i==int:\n",
    "        l.append(i)\n",
    "        \n",
    "print(l)"
   ]
  },
  {
   "cell_type": "code",
   "execution_count": null,
   "id": "00407201",
   "metadata": {},
   "outputs": [],
   "source": []
  },
  {
   "cell_type": "code",
   "execution_count": null,
   "id": "f8a87bc9",
   "metadata": {},
   "outputs": [],
   "source": []
  },
  {
   "cell_type": "code",
   "execution_count": null,
   "id": "282695ac",
   "metadata": {},
   "outputs": [],
   "source": []
  },
  {
   "cell_type": "code",
   "execution_count": null,
   "id": "d017300c",
   "metadata": {},
   "outputs": [],
   "source": []
  }
 ],
 "metadata": {
  "kernelspec": {
   "display_name": "Python 3 (ipykernel)",
   "language": "python",
   "name": "python3"
  },
  "language_info": {
   "codemirror_mode": {
    "name": "ipython",
    "version": 3
   },
   "file_extension": ".py",
   "mimetype": "text/x-python",
   "name": "python",
   "nbconvert_exporter": "python",
   "pygments_lexer": "ipython3",
   "version": "3.9.12"
  }
 },
 "nbformat": 4,
 "nbformat_minor": 5
}
