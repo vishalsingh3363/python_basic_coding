{
 "cells": [
  {
   "cell_type": "code",
   "execution_count": null,
   "id": "6c6550e3",
   "metadata": {},
   "outputs": [],
   "source": [
    "#Question1\n",
    "#Create a function that takes a list of strings and integers, and filters out the list so that it returns a list of integers only.\n",
    "\n",
    "def test(l):  \n",
    "    for i in l:  \n",
    "        if i != str():  \n",
    "            l.append(i)  \n",
    "\n",
    "    return(l)  \n",
    "\n",
    "print(test([3,1,2,5,6,'w','frr',3 ]))\n"
   ]
  },
  {
   "cell_type": "code",
   "execution_count": null,
   "id": "89fdd3bf",
   "metadata": {},
   "outputs": [],
   "source": [
    "#Question2\n",
    "#Given a list of numbers, create a function which returns the list but with each element&#39;s\n",
    "#index in the list added to itself. This means you add 0 to the number at index 0, add 1 to the\n",
    "#number at index 1, etc...\n",
    "\n"
   ]
  },
  {
   "cell_type": "code",
   "execution_count": 2,
   "id": "749410b0",
   "metadata": {},
   "outputs": [
    {
     "name": "stdout",
     "output_type": "stream",
     "text": [
      "Enter radius :2\n",
      "Enter height :3\n",
      "12.571428571428571\n"
     ]
    }
   ],
   "source": [
    "#Question3\n",
    "#Create a function that takes the height and radius of a cone as arguments and returns the\n",
    "#volume of the cone rounded to the nearest hundredth. See the resources tab for the formula.\n",
    "\n",
    "Radius= int(input(\"Enter radius :\"))\n",
    "Height= int(input(\"Enter height :\"))\n",
    "\n",
    "volume_of_cone= (22/7)*Radius*Radius*(Height/3)\n",
    "\n",
    "print(volume_of_cone)"
   ]
  },
  {
   "cell_type": "code",
   "execution_count": 7,
   "id": "f7eaf923",
   "metadata": {},
   "outputs": [
    {
     "name": "stdout",
     "output_type": "stream",
     "text": [
      "Enter value of n :6\n",
      "21.0\n"
     ]
    }
   ],
   "source": [
    "#Question4\n",
    "#This Triangular Number Sequence is generated from a pattern of dots that form a triangle.\n",
    "#The first 5 numbers of the sequence, or dots, are:\n",
    "#1, 3, 6, 10, 15\n",
    "#This means that the first triangle has just one dot, the second one has three dots, the third one has 6 dots and so on.\n",
    "#Write a function that gives the number of dots with its corresponding triangle number of the sequence.\n",
    "\n",
    "\n",
    "\n",
    "n=int(input(\"Enter value of n :\"))\n",
    "\n",
    "Dots_in_triangle = n*(n+1)/2\n",
    "\n",
    "print(Dots_in_triangle)"
   ]
  },
  {
   "cell_type": "code",
   "execution_count": 8,
   "id": "01f009ad",
   "metadata": {},
   "outputs": [
    {
     "name": "stdout",
     "output_type": "stream",
     "text": [
      "[5, 8, 9]\n"
     ]
    }
   ],
   "source": [
    "#Question5\n",
    "#Create a function that takes a list of numbers between 1 and 10 (excluding one number) and returns the missing number.\n",
    "\n",
    "def missing(num_list):\n",
    "      original_list = [x for x in range(num_list[0], num_list[-1] + 1)]\n",
    "      num_list = set(num_list)\n",
    "      return (list(num_list ^ set(original_list)))\n",
    "\n",
    "print(missing([1,2,3,4,6,7,10]))\n"
   ]
  },
  {
   "cell_type": "code",
   "execution_count": null,
   "id": "1cd9fd16",
   "metadata": {},
   "outputs": [],
   "source": []
  }
 ],
 "metadata": {
  "kernelspec": {
   "display_name": "Python 3 (ipykernel)",
   "language": "python",
   "name": "python3"
  },
  "language_info": {
   "codemirror_mode": {
    "name": "ipython",
    "version": 3
   },
   "file_extension": ".py",
   "mimetype": "text/x-python",
   "name": "python",
   "nbconvert_exporter": "python",
   "pygments_lexer": "ipython3",
   "version": "3.9.12"
  }
 },
 "nbformat": 4,
 "nbformat_minor": 5
}
